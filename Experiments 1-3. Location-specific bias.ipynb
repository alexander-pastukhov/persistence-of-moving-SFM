{
 "cells": [
  {
   "cell_type": "markdown",
   "metadata": {},
   "source": [
    "# Experiments 1-3. Location-specific bias analysis.\n",
    "Generates __Figure 5__ in the manuscript."
   ]
  },
  {
   "cell_type": "code",
   "execution_count": 1,
   "metadata": {
    "collapsed": true
   },
   "outputs": [],
   "source": [
    "rm(list=ls())"
   ]
  },
  {
   "cell_type": "code",
   "execution_count": 10,
   "metadata": {
    "collapsed": false
   },
   "outputs": [],
   "source": [
    "library(dplyr)\n",
    "library(binom)\n",
    "library(ggplot2)"
   ]
  },
  {
   "cell_type": "markdown",
   "metadata": {},
   "source": [
    "## First, finding observers that participated at least in two experiments"
   ]
  },
  {
   "cell_type": "code",
   "execution_count": 3,
   "metadata": {
    "collapsed": false
   },
   "outputs": [
    {
     "data": {
      "text/html": [
       "<ol class=list-inline>\n",
       "\t<li>'azm1990w'</li>\n",
       "\t<li>'cen2000w'</li>\n",
       "\t<li>'egn1994m'</li>\n",
       "\t<li>'ikb1995w'</li>\n",
       "\t<li>'phm1988w'</li>\n",
       "\t<li>'sda1995m'</li>\n",
       "\t<li>'skl1994w'</li>\n",
       "\t<li>'uks1989m'</li>\n",
       "</ol>\n"
      ],
      "text/latex": [
       "\\begin{enumerate*}\n",
       "\\item 'azm1990w'\n",
       "\\item 'cen2000w'\n",
       "\\item 'egn1994m'\n",
       "\\item 'ikb1995w'\n",
       "\\item 'phm1988w'\n",
       "\\item 'sda1995m'\n",
       "\\item 'skl1994w'\n",
       "\\item 'uks1989m'\n",
       "\\end{enumerate*}\n"
      ],
      "text/markdown": [
       "1. 'azm1990w'\n",
       "2. 'cen2000w'\n",
       "3. 'egn1994m'\n",
       "4. 'ikb1995w'\n",
       "5. 'phm1988w'\n",
       "6. 'sda1995m'\n",
       "7. 'skl1994w'\n",
       "8. 'uks1989m'\n",
       "\n",
       "\n"
      ],
      "text/plain": [
       "[1] \"azm1990w\" \"cen2000w\" \"egn1994m\" \"ikb1995w\" \"phm1988w\" \"sda1995m\" \"skl1994w\"\n",
       "[8] \"uks1989m\""
      ]
     },
     "metadata": {},
     "output_type": "display_data"
    }
   ],
   "source": [
    "# finding observers that participated in both experiments\n",
    "exp1 <-list.files(path= 'Experiment 1', pattern= '*.csv')\n",
    "exp1 <- tolower(regmatches(exp1, regexpr('[[:alpha:]]{3}[[:digit:]]{2,4}[[:alpha:]]', exp1)))\n",
    "exp2 <- list.files(path= 'Experiment 2', pattern= '*.csv')\n",
    "exp2 <- tolower(regmatches(exp2, regexpr('[[:alpha:]]{3}[[:digit:]]{2,4}[[:alpha:]]', exp2)))\n",
    "exp3 <- list.files(path= 'Experiment 3', pattern= '*blink.csv')\n",
    "exp3 <- tolower(regmatches(exp3, regexpr('[[:alpha:]]{3}[[:digit:]]{2,4}[[:alpha:]]', exp3)))\n",
    "participation <- data.frame(table(c(exp1, exp2, exp3)))\n",
    "participation <- subset(participation, Freq>1)\n",
    "common.participants <- participation$Var1\n",
    "common.participants <- setdiff(common.participants, c('bpm1997w'))  # excluding BPM1997w, as she has very strong bias\n",
    "common.participants"
   ]
  },
  {
   "cell_type": "markdown",
   "metadata": {},
   "source": [
    "## Loading data from all experiments into a single table"
   ]
  },
  {
   "cell_type": "code",
   "execution_count": 4,
   "metadata": {
    "collapsed": false
   },
   "outputs": [
    {
     "name": "stdout",
     "output_type": "stream",
     "text": [
      "azm1990w \n",
      "  Experiment 1: AZM1990w.csv\n",
      "  Experiment 2: AZM1990w.csv\n",
      "cen2000w \n",
      "  Experiment 1: CEN2000w.csv\n",
      "  Experiment 2: CEN2000w.csv\n",
      "egn1994m \n",
      "  Experiment 1: EGN1994m.csv\n",
      "  Experiment 2: EGN1994m.csv\n",
      "ikb1995w \n",
      "  Experiment 1: IKB1995w.csv\n",
      "  Experiment 2: IKB1995w.csv\n",
      "phm1988w \n",
      "  Experiment 1: PHM1988w.csv\n",
      "  Experiment 2: PHM1988w.csv\n",
      "sda1995m \n",
      "  Experiment 2: SDA1995M .csv\n",
      "skl1994w \n",
      "  Experiment 1: SKL1994w.csv\n",
      "  Experiment 2: SKL1994w.csv\n",
      "uks1989m \n",
      "  Experiment 1: UKS1989m.csv\n",
      "  Experiment 2: UKS1989m.csv\n"
     ]
    }
   ],
   "source": [
    "condition.columns <- c('sfmWidth', 'showHalo', 'playSound', 'Occluder', 'Color', 'Condition', 'Blink')\n",
    "results <- data.frame()\n",
    "\n",
    "for(current.participant in common.participants){\n",
    "    cat(current.participant, '\\n')\n",
    "    for(current.experiment in c('Experiment 1', 'Experiment 2', 'Experiment 3')){\n",
    "        # checking if file(s) exists for that specific experiment and loading them\n",
    "        current.observer <- data.frame()\n",
    "        if (current.experiment!= 'Experiment 3') {\n",
    "            filename <- list.files(path= current.experiment, pattern= sprintf('.*%s.*csv$', current.participant), ignore.case = TRUE)\n",
    "            if (length(filename)>0){\n",
    "                cat('  ', current.experiment, ': ', filename, '\\n', sep='')\n",
    "                \n",
    "                # loading the file\n",
    "                current.observer <- read.csv2(file.path(current.experiment, filename))\n",
    "            }\n",
    "        }\n",
    "        else {\n",
    "            file.blink <- list.files(path= current.experiment, pattern= sprintf('.*%s.*blink[.]csv$', current.participant), ignore.case = TRUE)\n",
    "            file.sound <- list.files(path= current.experiment, pattern= sprintf('.*%s.*sound[.]csv$', current.participant), ignore.case = TRUE)\n",
    "            if ((length(file.blink)>0) & (length(file.sound)>0)){\n",
    "                # loading and merging files\n",
    "                current.blink <- read.csv2(file.path(current.experiment, file.blink))\n",
    "                current.sound <- read.csv2(file.path(current.experiment, file.sound))\n",
    "                current.observer <- rbind(current.blink, current.sound)\n",
    "            }\n",
    "            \n",
    "        }\n",
    "        \n",
    "        # skipping empty combinations\n",
    "        if (nrow(current.observer) == 0){\n",
    "            next;\n",
    "        }\n",
    "        \n",
    "\n",
    "        # making sure that observer codes are uniform\n",
    "        current.observer$Observer <- current.participant\n",
    "        \n",
    "        # adding experiment info\n",
    "        current.observer$Experiment <- current.experiment\n",
    "\n",
    "        # correcting any rounding errors on the RelativeLocation\n",
    "        current.observer$RelativeLocation[which(current.observer$RelativeLocation< -1)]<- -1\n",
    "        current.observer$RelativeLocation[current.observer$RelativeLocation> 1]<-  1\n",
    "\n",
    "        # adding trial index (time between two extremeties)\n",
    "        current.observer$Trial <- NA\n",
    "        for(current.block in unique(current.observer$Block)){\n",
    "            iTrialStartEnd <- which((current.observer$Block==current.block) &  \n",
    "                                     current.observer$Event %in% c('Block start', 'Trajectory limit', 'Block end'))\n",
    "\n",
    "            for(iCurrentTrial in 1:(length(iTrialStartEnd)-1)){\n",
    "                current.observer$Trial[iTrialStartEnd[iCurrentTrial]:iTrialStartEnd[iCurrentTrial+1]]<- iCurrentTrial\n",
    "            }\n",
    "        }\n",
    "        \n",
    "        # dropping condition columns, as they differ between experiments\n",
    "        current.observer<- current.observer[, setdiff(colnames(current.observer), condition.columns)]        \n",
    "\n",
    "        # binding tables\n",
    "        results <- rbind(results, current.observer)\n",
    "    }\n",
    "}\n",
    "\n",
    "\n",
    "# being tidy\n",
    "rm(list=setdiff(ls(), \"results\"))      "
   ]
  },
  {
   "cell_type": "markdown",
   "metadata": {},
   "source": [
    "## For each observer, we bin the trajectory and count the fraction of \"up\" reports"
   ]
  },
  {
   "cell_type": "code",
   "execution_count": 5,
   "metadata": {
    "collapsed": false
   },
   "outputs": [],
   "source": [
    "# counting trials for each observers\n",
    "trial.count <- results %>%\n",
    "    group_by(Observer, Block, Trial) %>%\n",
    "    summarise() %>%\n",
    "    group_by(Observer) %>%\n",
    "    summarise(Trials= n())\n",
    "\n",
    "# preparing counters for each observer and each bin\n",
    "bins<- seq(-1,1,0.05)\n",
    "counter <- data.frame(expand.grid(unique(results$Observer), bins, c('Experiment 1', 'Experiment 2', 'Experiment 3'), NA))\n",
    "colnames(counter)<- c('Observer', 'RelativeLocation', 'Experiment', 'Count')\n",
    "counter$Count <- as.numeric(counter$Count)\n",
    "up.count <- counter\n",
    "down.count <- counter"
   ]
  },
  {
   "cell_type": "code",
   "execution_count": 6,
   "metadata": {
    "collapsed": false
   },
   "outputs": [],
   "source": [
    "# laying out probability of perceiving \"up\" for each trial and location\n",
    "for(current.observer in unique(results$Observer)){\n",
    "    observer.data <- subset(results, Observer==current.observer)\n",
    "    for(current.experiment in unique(results$Experiment)){\n",
    "        experiment.data <- subset(observer.data, Experiment== current.experiment)\n",
    "        for(current.block in unique(experiment.data$Block)){\n",
    "            block.data <- subset(experiment.data, Block==current.block)\n",
    "            last.percept.on.previous.trial <- NA\n",
    "\n",
    "            for(current.trial in unique(block.data$Trial))\n",
    "            {\n",
    "                trial.perception<- rep(0, length(bins))\n",
    "\n",
    "                # picking only percept reports\n",
    "                trial.data <- subset(block.data, (Trial==current.trial) & (Event=='Percept'))\n",
    "                trial.data$Value <- as.numeric(trial.data$Value)\n",
    "                if (nrow(trial.data)>0){\n",
    "                    for(iEvent in 1:nrow(trial.data)){\n",
    "                        if (trial.data$Direction[iEvent]>0){\n",
    "                            iBins <- which(bins>trial.data$RelativeLocation[[iEvent]])\n",
    "                        }\n",
    "                        else {\n",
    "                            iBins <- which(bins<trial.data$RelativeLocation[[iEvent]])\n",
    "                        }\n",
    "                        trial.perception[iBins] <- trial.data$Value[iEvent]\n",
    "                    }\n",
    "                    last.percept.on.previous.trial <- trial.data$Value[nrow(trial.data)]\n",
    "                }\n",
    "                else {\n",
    "                    if (is.finite(last.percept.on.previous.trial)){\n",
    "                        trial.perception <- rep(last.percept.on.previous.trial, length(bins))\n",
    "                    }\n",
    "                }\n",
    "\n",
    "                # leaving only the \"up\" percept\n",
    "                up.perception<- trial.perception\n",
    "                up.perception[up.perception<0] <- 0 \n",
    "                if (is.na(up.count$Count[(up.count$Observer==current.observer) & (up.count$Experiment==current.experiment)][1])){\n",
    "                    up.count$Count[(up.count$Observer==current.observer) & (up.count$Experiment==current.experiment)]<- up.perception\n",
    "                }\n",
    "                else{\n",
    "                    up.count$Count[(up.count$Observer==current.observer) & (up.count$Experiment==current.experiment)] <- up.count$Count[(up.count$Observer==current.observer) & (up.count$Experiment==current.experiment)]+up.perception\n",
    "                }\n",
    "\n",
    "                # leaving only the \"down\" percept\n",
    "                down.perception<- trial.perception\n",
    "                down.perception[down.perception>0] <- 0             \n",
    "                if (is.na(down.count$Count[(down.count$Observer==current.observer) & (down.count$Experiment==current.experiment)][1])){\n",
    "                    down.count$Count[(down.count$Observer==current.observer) & (down.count$Experiment==current.experiment)] <- -down.perception\n",
    "                }\n",
    "                else {\n",
    "                    down.count$Count[(down.count$Observer==current.observer) & (down.count$Experiment==current.experiment)] <- down.count$Count[(down.count$Observer==current.observer) & (down.count$Experiment==current.experiment)]-down.perception\n",
    "                }\n",
    "            }\n",
    "        }\n",
    "    }\n",
    "}\n",
    "\n",
    "# adding info about the total trial count\n",
    "up.count$Trials <- up.count$Count+down.count$Count\n",
    "down.count$Trials <- up.count$Count+down.count$Count\n",
    "\n",
    "# dropping empty rows (for experiments that participant was not a part of)\n",
    "up.count <- na.omit(up.count)\n",
    "down.count <- na.omit(down.count)"
   ]
  },
  {
   "cell_type": "code",
   "execution_count": 7,
   "metadata": {
    "collapsed": true
   },
   "outputs": [],
   "source": [
    "# computing an overall mean\n",
    "P.up.mean <- up.count %>%\n",
    "    group_by(Observer, Experiment) %>%\n",
    "    summarise(up= mean(Count/Trials))\n",
    "P.down.mean <- down.count %>%\n",
    "    group_by(Observer, Experiment) %>%\n",
    "    summarise(down= mean(Count/Trials))\n",
    "P.overall.mean <- merge(P.up.mean, P.down.mean, by=c('Observer', 'Experiment'))"
   ]
  },
  {
   "cell_type": "code",
   "execution_count": 8,
   "metadata": {
    "collapsed": false
   },
   "outputs": [],
   "source": [
    "# computing mean and confidence interval for each bin\n",
    "up.count.ci <- up.count %>%\n",
    "    transform(P.mean= Count/Trials,\n",
    "              P.ci.lower = binom.bayes(Count, Trials)$lower,\n",
    "              P.ci.upper = binom.bayes(Count, Trials)$upper)\n",
    "up.count.ci <- merge(up.count.ci, P.overall.mean, by=c('Observer', 'Experiment'))"
   ]
  },
  {
   "cell_type": "code",
   "execution_count": 9,
   "metadata": {
    "collapsed": false
   },
   "outputs": [
    {
     "data": {
      "image/png": "[encoded data removed]",
      "text/plain": [
       "plot without title"
      ]
     },
     "metadata": {},
     "output_type": "display_data"
    }
   ],
   "source": [
    "location.plot <- ggplot(data= up.count.ci, #[up.count.ci$Observer=='BPM1997w', ],\n",
    "                        aes(x= RelativeLocation, y= P.mean, \n",
    "                            ymin= P.ci.lower, ymax=P.ci.upper,\n",
    "                            group= Experiment, fill=Experiment, color=Experiment))+\n",
    "    facet_grid(Observer~., scales=\"free_y\") + \n",
    "    scale_x_continuous(limits=c(-1, 1))+\n",
    "    geom_ribbon(alpha= 0.5)+\n",
    "    geom_hline(aes(yintercept = up, color= Experiment), data= P.overall.mean)+\n",
    "    ylab(expression(P[up]))\n",
    "print(location.plot)\n",
    "ggsave(file=\"Experiments 1-3 - location-specific percept.pdf\", plot= location.plot, width= 16, height= 24, units = 'cm')"
   ]
  }
 ],
 "metadata": {
  "kernelspec": {
   "display_name": "R",
   "language": "R",
   "name": "ir"
  },
  "language_info": {
   "codemirror_mode": "r",
   "file_extension": ".r",
   "mimetype": "text/x-r-source",
   "name": "R",
   "pygments_lexer": "r",
   "version": "3.4.0"
  }
 },
 "nbformat": 4,
 "nbformat_minor": 1
}
