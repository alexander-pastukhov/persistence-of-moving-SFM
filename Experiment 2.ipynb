{
 "cells": [
  {
   "cell_type": "markdown",
   "metadata": {},
   "source": [
    "# Experiment 2\n",
    "\n",
    "Generates all figures, tables, and statistical comparisons for the __Results / Experiment 2__ section"
   ]
  },
  {
   "cell_type": "code",
   "execution_count": 22,
   "metadata": {
    "collapsed": true
   },
   "outputs": [],
   "source": [
    "rm(list=ls())"
   ]
  },
  {
   "cell_type": "code",
   "execution_count": 23,
   "metadata": {},
   "outputs": [],
   "source": [
    "library(dplyr)\n",
    "library(gtools)\n",
    "library(ggplot2)\n",
    "library(binom)\n",
    "library(BayesFactor)\n",
    "library(lme4)\n",
    "library(lmerTest)\n",
    "library(Hmisc)"
   ]
  },
  {
   "cell_type": "markdown",
   "metadata": {},
   "source": [
    "## 1. Combining files from individual observers into a single table.\n",
    "While loading, also marking out individual trials and removing duplicate key presses"
   ]
  },
  {
   "cell_type": "code",
   "execution_count": 24,
   "metadata": {},
   "outputs": [
    {
     "name": "stdout",
     "output_type": "stream",
     "text": [
      "Excluding BPM1997w due to extreme perceptual bias\n"
     ]
    }
   ],
   "source": [
    "all.csv.files <- list.files(path= 'Experiment 2', pattern= '*.csv')\n",
    "results <- data.frame()\n",
    "\n",
    "observers.with.extremely.strong.bias <- c('BPM1997w')\n",
    "\n",
    "for(current.filename in all.csv.files){\n",
    "    # excluding observer with extreme bias, see spatially specific bias analysis for details\n",
    "    if (substr(current.filename, 1, nchar(current.filename)-4) %in% observers.with.extremely.strong.bias){\n",
    "        cat(sprintf('Excluding %s due to extreme perceptual bias\\n', substr(current.filename, 1, nchar(current.filename)-4)))      \n",
    "        next;\n",
    "    }\n",
    "    \n",
    "    current.observer <- read.csv2(normalizePath(paste('Experiment 2', current.filename, sep='/')))\n",
    "    \n",
    "    # correcting any rounding errors on the RelativeLocation\n",
    "    current.observer$RelativeLocation[which(current.observer$RelativeLocation< -1)]<- -1\n",
    "    current.observer$RelativeLocation[current.observer$RelativeLocation> 1]<-  1\n",
    "    \n",
    "   \n",
    "    # adding trial index (time between two extremeties)\n",
    "    current.observer$Trial <- NA\n",
    "    for(current.block in unique(current.observer$Block)){\n",
    "        iTrialStartEnd <- which((current.observer$Block==current.block) &  \n",
    "                                 current.observer$Event %in% c('Block start', 'Trajectory limit', 'Block end'))\n",
    "        \n",
    "        for(iCurrentTrial in 1:(length(iTrialStartEnd)-1)){\n",
    "            current.observer$Trial[iTrialStartEnd[iCurrentTrial]:iTrialStartEnd[iCurrentTrial+1]]<- iCurrentTrial\n",
    "        }\n",
    "    }\n",
    "    \n",
    "\n",
    "    # removing duplicate percepts, i.e. a participant reporting same percept again after the blink\n",
    "    i.duplicates <- c()\n",
    "    for(current.block in unique(current.observer$Block)){\n",
    "        current.percept <- 100 # percept code that is definitely different from anything being reported\n",
    "        for(i.row in which(current.observer$Block==current.block)){\n",
    "            if (current.observer$Event[i.row]=='Percept'){\n",
    "                if (current.percept == current.observer$Value[i.row]){\n",
    "                    i.duplicates <- c(i.duplicates, i.row)\n",
    "                }\n",
    "                current.percept <- current.observer$Value[i.row]\n",
    "            }\n",
    "        }\n",
    "    }\n",
    "    if (length(i.duplicates)>0){\n",
    "        current.observer <- current.observer[-i.duplicates, ]\n",
    "    }        \n",
    "    \n",
    "    # binding tables\n",
    "    results <- rbind(results, current.observer)\n",
    "}\n",
    "\n",
    "# being tidy\n",
    "rm(list=setdiff(ls(), \"results\"))\n",
    "\n",
    "\n",
    "# replacing \"b\" and \"y\" with \"background\" and \"yellow\"\n",
    "levels(results$Color)[levels(results$Color)=='b'] <- 'background'\n",
    "levels(results$Color)[levels(results$Color)=='y'] <- 'yellow'\n",
    "\n",
    "# making yellow to be the fist, so that legend matches color order\n",
    "results$Color <- relevel(results$Color, \"yellow\")"
   ]
  },
  {
   "cell_type": "markdown",
   "metadata": {},
   "source": [
    "## 2. Computing persistence, as a function of the aperture area (occluder) and visibility (color)\n",
    "\n",
    "First, we compute number of switches reported when object was __past__ the midpoint, _i.e._ it re-emerged and should either persist (few trials with switches) or not (many trials with switches) and convert it into the P<sub>survival</sub> for each combination of factors. "
   ]
  },
  {
   "cell_type": "code",
   "execution_count": 25,
   "metadata": {},
   "outputs": [],
   "source": [
    "# computing whether an event occured before or after the mid-point\n",
    "results$normalized.location <- results$RelativeLocation*results$Direction\n",
    "results$after.midpoint <- results$normalized.location>0\n",
    "\n",
    "# counting post midpoint percept onsets (e.i., switches) for each trial\n",
    "percepts.per.trial <- results %>%\n",
    "    dplyr::group_by(Observer, Trial, Occluder, Color) %>%\n",
    "    dplyr::summarize(percepts.after.midpoint= sum(Event=='Percept' & normalized.location>0.1 & normalized.location<0.4))\n",
    "percepts.per.trial <- data.frame(percepts.per.trial)\n",
    "\n",
    "# computing number of trials with at least on post-mid-point switch and total number of trials\n",
    "percepts.per.observer <- percepts.per.trial %>%\n",
    "                          dplyr::group_by(Observer, Occluder, Color) %>%\n",
    "                          dplyr::summarise(\n",
    "                            trials.with.at.least.one.percept= sum(percepts.after.midpoint>0),\n",
    "                            trials.with.one.percept= sum(percepts.after.midpoint==1),\n",
    "                            trial.count= n(),\n",
    "                            P.switch= trials.with.at.least.one.percept/trial.count)\n",
    "\n",
    "# logit conversion (for ANOVA)\n",
    "tiny.correction <- 1e-10\n",
    "percepts.per.observer$logit.P.switch <- logit(percepts.per.observer$P.switch*(1-2*tiny.correction)+tiny.correction)\n",
    "percepts.per.observer <- data.frame(percepts.per.observer)"
   ]
  },
  {
   "cell_type": "markdown",
   "metadata": {},
   "source": [
    "## Computing group averages for each condition, plus a 95% binomial confidence interval from a beta posterior (see `binom.bayes` for details)."
   ]
  },
  {
   "cell_type": "code",
   "execution_count": 26,
   "metadata": {},
   "outputs": [],
   "source": [
    "switches.per.condition <- percepts.per.observer %>%\n",
    "    dplyr::group_by(Occluder, Color) %>%\n",
    "    dplyr::summarise(total.trial.count= sum(trial.count),\n",
    "                     P.mean= mean(P.switch),\n",
    "                     P.ci.lower= binom.bayes(round(total.trial.count*mean(P.switch)), total.trial.count)$lower,\n",
    "                     P.ci.upper= binom.bayes(round(total.trial.count*mean(P.switch)), total.trial.count)$upper)"
   ]
  },
  {
   "cell_type": "markdown",
   "metadata": {},
   "source": [
    "### Plotting group averages\n",
    "__Figure 3__ in the manuscript."
   ]
  },
  {
   "cell_type": "code",
   "execution_count": 27,
   "metadata": {},
   "outputs": [
    {
     "data": {
      "image/png": "[encoded data removed]",
      "text/plain": [
       "plot without title"
      ]
     },
     "metadata": {},
     "output_type": "display_data"
    }
   ],
   "source": [
    "switches.per.condition$i.Occluder <- as.numeric(as.factor(switches.per.condition$Occluder))\n",
    "survival.plot <- ggplot(switches.per.condition, aes(x= i.Occluder, y= P.mean, ymin=P.ci.lower, ymax= P.ci.upper, \n",
    "                                                    color= Color))+\n",
    "    geom_line()+\n",
    "    geom_errorbar()+\n",
    "    geom_point(size= 5)+ \n",
    "    xlab(\"Area occupied by apertures [%]\") + ylab(expression(P[switch]))+\n",
    "    scale_x_continuous(breaks= unique(switches.per.condition$i.Occluder), labels= unique(switches.per.condition$Occluder))\n",
    "print(survival.plot)\n",
    "ggsave(file=\"Generated figures/Experiment 2 - group averages.pdf\", plot= survival.plot, width= 12, height= 8, units = 'cm')"
   ]
  },
  {
   "cell_type": "markdown",
   "metadata": {},
   "source": [
    "### Using `anovaBF` from `BayesFactor` to identify the best model for the data.\n",
    "Column __Bayes Factor__ of the __Table 2__ in the manuscript."
   ]
  },
  {
   "cell_type": "code",
   "execution_count": 28,
   "metadata": {},
   "outputs": [
    {
     "data": {
      "text/plain": [
       "Bayes factor analysis\n",
       "--------------\n",
       "[1] Occluder + Observer                          : 241137    ±0.43%\n",
       "[2] Occluder + Color + Observer                  : 152935.1  ±7.12%\n",
       "[3] Occluder + Color + Occluder:Color + Observer : 18500.82  ±1.06%\n",
       "[4] Color + Observer                             : 0.4131774 ±0.99%\n",
       "\n",
       "Against denominator:\n",
       "  logit.P.switch ~ Observer \n",
       "---\n",
       "Bayes factor type: BFlinearModel, JZS\n"
      ]
     },
     "metadata": {},
     "output_type": "display_data"
    }
   ],
   "source": [
    "percepts.per.observer$Occluder <- as.factor(percepts.per.observer$Occluder)\n",
    "percepts.per.observer$Color <- as.factor(percepts.per.observer$Color)\n",
    "percepts.per.observer$Observer <- as.factor(percepts.per.observer$Observer)\n",
    "switches.aov.bf <-   anovaBF(logit.P.switch ~ Occluder * Color + Observer, \n",
    "    data= percepts.per.observer,\n",
    "    whichRandom= 'Observer')\n",
    "sort(switches.aov.bf, decreasing = TRUE)"
   ]
  },
  {
   "cell_type": "markdown",
   "metadata": {},
   "source": [
    "### Same analysis but using linear mixed models.\n",
    "__Table 2__ in the manuscript."
   ]
  },
  {
   "cell_type": "code",
   "execution_count": 29,
   "metadata": {
    "scrolled": true
   },
   "outputs": [
    {
     "data": {
      "text/html": [
       "<table>\n",
       "<thead><tr><th></th><th scope=col>Df</th><th scope=col>AIC</th><th scope=col>BIC</th><th scope=col>logLik</th><th scope=col>deviance</th><th scope=col>Chisq</th><th scope=col>Chi Df</th><th scope=col>Pr(&gt;Chisq)</th></tr></thead>\n",
       "<tbody>\n",
       "\t<tr><th scope=row>lm.null</th><td>3           </td><td>46.80730    </td><td>54.50034    </td><td>-20.403650  </td><td>40.80730    </td><td>        NA  </td><td>NA          </td><td>          NA</td></tr>\n",
       "\t<tr><th scope=row>lm.aperture.area</th><td>4           </td><td>21.00707    </td><td>31.26446    </td><td> -6.503534  </td><td>13.00707    </td><td>27.8002315  </td><td> 1          </td><td>1.345100e-07</td></tr>\n",
       "\t<tr><th scope=row>lm.color</th><td>5           </td><td>22.12814    </td><td>34.94988    </td><td> -6.064071  </td><td>12.12814    </td><td> 0.8789257  </td><td> 1          </td><td>3.484961e-01</td></tr>\n",
       "\t<tr><th scope=row>lm.interaction</th><td>6           </td><td>23.94597    </td><td>39.33206    </td><td> -5.972983  </td><td>11.94597    </td><td> 0.1821763  </td><td> 1          </td><td>6.695096e-01</td></tr>\n",
       "</tbody>\n",
       "</table>\n"
      ],
      "text/latex": [
       "\\begin{tabular}{r|llllllll}\n",
       "  & Df & AIC & BIC & logLik & deviance & Chisq & Chi Df & Pr(>Chisq)\\\\\n",
       "\\hline\n",
       "\tlm.null & 3            & 46.80730     & 54.50034     & -20.403650   & 40.80730     &         NA   & NA           &           NA\\\\\n",
       "\tlm.aperture.area & 4            & 21.00707     & 31.26446     &  -6.503534   & 13.00707     & 27.8002315   &  1           & 1.345100e-07\\\\\n",
       "\tlm.color & 5            & 22.12814     & 34.94988     &  -6.064071   & 12.12814     &  0.8789257   &  1           & 3.484961e-01\\\\\n",
       "\tlm.interaction & 6            & 23.94597     & 39.33206     &  -5.972983   & 11.94597     &  0.1821763   &  1           & 6.695096e-01\\\\\n",
       "\\end{tabular}\n"
      ],
      "text/markdown": [
       "\n",
       "| <!--/--> | Df | AIC | BIC | logLik | deviance | Chisq | Chi Df | Pr(>Chisq) | \n",
       "|---|---|---|---|\n",
       "| lm.null | 3            | 46.80730     | 54.50034     | -20.403650   | 40.80730     |         NA   | NA           |           NA | \n",
       "| lm.aperture.area | 4            | 21.00707     | 31.26446     |  -6.503534   | 13.00707     | 27.8002315   |  1           | 1.345100e-07 | \n",
       "| lm.color | 5            | 22.12814     | 34.94988     |  -6.064071   | 12.12814     |  0.8789257   |  1           | 3.484961e-01 | \n",
       "| lm.interaction | 6            | 23.94597     | 39.33206     |  -5.972983   | 11.94597     |  0.1821763   |  1           | 6.695096e-01 | \n",
       "\n",
       "\n"
      ],
      "text/plain": [
       "                 Df AIC      BIC      logLik     deviance Chisq      Chi Df\n",
       "lm.null          3  46.80730 54.50034 -20.403650 40.80730         NA NA    \n",
       "lm.aperture.area 4  21.00707 31.26446  -6.503534 13.00707 27.8002315  1    \n",
       "lm.color         5  22.12814 34.94988  -6.064071 12.12814  0.8789257  1    \n",
       "lm.interaction   6  23.94597 39.33206  -5.972983 11.94597  0.1821763  1    \n",
       "                 Pr(>Chisq)  \n",
       "lm.null                    NA\n",
       "lm.aperture.area 1.345100e-07\n",
       "lm.color         3.484961e-01\n",
       "lm.interaction   6.695096e-01"
      ]
     },
     "metadata": {},
     "output_type": "display_data"
    },
    {
     "data": {
      "text/html": [
       "<ol class=list-inline>\n",
       "\t<li>&lt;NA&gt;</li>\n",
       "\t<li>1.34510018222434e-07</li>\n",
       "\t<li>0.348496100578142</li>\n",
       "\t<li>0.669509600279837</li>\n",
       "</ol>\n"
      ],
      "text/latex": [
       "\\begin{enumerate*}\n",
       "\\item <NA>\n",
       "\\item 1.34510018222434e-07\n",
       "\\item 0.348496100578142\n",
       "\\item 0.669509600279837\n",
       "\\end{enumerate*}\n"
      ],
      "text/markdown": [
       "1. &lt;NA&gt;\n",
       "2. 1.34510018222434e-07\n",
       "3. 0.348496100578142\n",
       "4. 0.669509600279837\n",
       "\n",
       "\n"
      ],
      "text/plain": [
       "[1]           NA 1.345100e-07 3.484961e-01 6.695096e-01"
      ]
     },
     "metadata": {},
     "output_type": "display_data"
    }
   ],
   "source": [
    "percepts.per.observer$Occluder <- as.numeric(as.character(percepts.per.observer$Occluder))\n",
    "\n",
    "lm.null <- lme4::lmer(P.switch ~ 1 + (1|Observer), data=percepts.per.observer, REML= FALSE)\n",
    "lm.aperture.area <- update(lm.null, .~. + Occluder)\n",
    "lm.color <- update(lm.aperture.area, .~. + Color)\n",
    "lm.interaction <- update(lm.color, .~. + Occluder:Color)\n",
    "anova(lm.null, lm.aperture.area, lm.color, lm.interaction)\n",
    "# x<- anova(lm.null, lm.aperture.area, lm.color, lm.interaction)\n",
    "\n",
    "# x$'Pr(>Chisq)'"
   ]
  },
  {
   "cell_type": "markdown",
   "metadata": {},
   "source": [
    "## Computing effect size for the best model that uses only width as a fixed factor"
   ]
  },
  {
   "cell_type": "code",
   "execution_count": 30,
   "metadata": {},
   "outputs": [
    {
     "name": "stdout",
     "output_type": "stream",
     "text": [
      "Effect size for width-only model R2: 0.397\n"
     ]
    }
   ],
   "source": [
    "r2.corr.mer <- function(m) {\n",
    "  lmfit <-  lm(model.response(model.frame(m)) ~ fitted(m))\n",
    "  summary(lmfit)$r.squared\n",
    "}\n",
    "cat(sprintf('Effect size for width-only model R2: %.3f\\n', r2.corr.mer(lm.aperture.area)))"
   ]
  },
  {
   "cell_type": "markdown",
   "metadata": {},
   "source": [
    "## 3. Using aperture area as the only fixed factor, comparing each aperture area condition to the maximal visibility condition (100% aperture area, occluder==100). \n",
    "This is for the __the visible occluder__. In the manuscript, this is the upper table above the plot in __Figure 3__."
   ]
  },
  {
   "cell_type": "code",
   "execution_count": 31,
   "metadata": {},
   "outputs": [
    {
     "data": {
      "text/plain": [
       "Linear mixed model fit by REML t-tests use Satterthwaite approximations to\n",
       "  degrees of freedom [lmerMod]\n",
       "Formula: P.switch ~ aperture.as.factor + (1 | Observer)\n",
       "   Data: percepts.per.observer[percepts.per.observer$Color == \"yellow\",      ]\n",
       "\n",
       "REML criterion at convergence: 9.9\n",
       "\n",
       "Scaled residuals: \n",
       "    Min      1Q  Median      3Q     Max \n",
       "-2.1745 -0.4846 -0.1185  0.4622  2.7322 \n",
       "\n",
       "Random effects:\n",
       " Groups   Name        Variance Std.Dev.\n",
       " Observer (Intercept) 0.01225  0.1107  \n",
       " Residual             0.04702  0.2168  \n",
       "Number of obs: 48, groups:  Observer, 8\n",
       "\n",
       "Fixed effects:\n",
       "                         Estimate Std. Error        df t value Pr(>|t|)    \n",
       "(Intercept)              0.005435   0.086076 34.610000   0.063    0.950    \n",
       "aperture.as.factor50.00  0.036685   0.108423 35.000000   0.338    0.737    \n",
       "aperture.as.factor25.00  0.094203   0.108423 35.000000   0.869    0.391    \n",
       "aperture.as.factor10.00  0.138587   0.108423 35.000000   1.278    0.210    \n",
       "aperture.as.factor5.00   0.237772   0.108423 35.000000   2.193    0.035 *  \n",
       "aperture.as.factor0.00   0.579904   0.108423 35.000000   5.349 5.58e-06 ***\n",
       "---\n",
       "Signif. codes:  0 '***' 0.001 '**' 0.01 '*' 0.05 '.' 0.1 ' ' 1\n",
       "\n",
       "Correlation of Fixed Effects:\n",
       "            (Intr) a..50. a..25. a..10. a..5.0\n",
       "aprt..50.00 -0.630                            \n",
       "aprt..25.00 -0.630  0.500                     \n",
       "aprt..10.00 -0.630  0.500  0.500              \n",
       "aprtr..5.00 -0.630  0.500  0.500  0.500       \n",
       "aprtr..0.00 -0.630  0.500  0.500  0.500  0.500"
      ]
     },
     "metadata": {},
     "output_type": "display_data"
    },
    {
     "data": {
      "text/html": [
       "<table>\n",
       "<thead><tr><th scope=col>Estimate</th><th scope=col>Std.Error</th><th scope=col>df</th><th scope=col>t.value</th><th scope=col>p.value</th><th scope=col>R.sqr</th></tr></thead>\n",
       "<tbody>\n",
       "\t<tr><td>0.005434783 </td><td>0.08607585  </td><td>34.60818    </td><td>0.06313946  </td><td>9.500187e-01</td><td>0.01073214  </td></tr>\n",
       "\t<tr><td>0.036684783 </td><td>0.10842267  </td><td>35.00001    </td><td>0.33834975  </td><td>7.371210e-01</td><td>0.05709823  </td></tr>\n",
       "\t<tr><td>0.094202899 </td><td>0.10842267  </td><td>35.00001    </td><td>0.86884874  </td><td>3.908490e-01</td><td>0.14530358  </td></tr>\n",
       "\t<tr><td>0.138586957 </td><td>0.10842267  </td><td>35.00001    </td><td>1.27821017  </td><td>2.095874e-01</td><td>0.21118403  </td></tr>\n",
       "\t<tr><td>0.237771739 </td><td>0.10842267  </td><td>35.00001    </td><td>2.19300764  </td><td>3.504251e-02</td><td>0.34757449  </td></tr>\n",
       "\t<tr><td>0.579904244 </td><td>0.10842267  </td><td>35.00001    </td><td>5.34855170  </td><td>5.582026e-06</td><td>0.67063108  </td></tr>\n",
       "</tbody>\n",
       "</table>\n"
      ],
      "text/latex": [
       "\\begin{tabular}{r|llllll}\n",
       " Estimate & Std.Error & df & t.value & p.value & R.sqr\\\\\n",
       "\\hline\n",
       "\t 0.005434783  & 0.08607585   & 34.60818     & 0.06313946   & 9.500187e-01 & 0.01073214  \\\\\n",
       "\t 0.036684783  & 0.10842267   & 35.00001     & 0.33834975   & 7.371210e-01 & 0.05709823  \\\\\n",
       "\t 0.094202899  & 0.10842267   & 35.00001     & 0.86884874   & 3.908490e-01 & 0.14530358  \\\\\n",
       "\t 0.138586957  & 0.10842267   & 35.00001     & 1.27821017   & 2.095874e-01 & 0.21118403  \\\\\n",
       "\t 0.237771739  & 0.10842267   & 35.00001     & 2.19300764   & 3.504251e-02 & 0.34757449  \\\\\n",
       "\t 0.579904244  & 0.10842267   & 35.00001     & 5.34855170   & 5.582026e-06 & 0.67063108  \\\\\n",
       "\\end{tabular}\n"
      ],
      "text/markdown": [
       "\n",
       "Estimate | Std.Error | df | t.value | p.value | R.sqr | \n",
       "|---|---|---|---|---|---|\n",
       "| 0.005434783  | 0.08607585   | 34.60818     | 0.06313946   | 9.500187e-01 | 0.01073214   | \n",
       "| 0.036684783  | 0.10842267   | 35.00001     | 0.33834975   | 7.371210e-01 | 0.05709823   | \n",
       "| 0.094202899  | 0.10842267   | 35.00001     | 0.86884874   | 3.908490e-01 | 0.14530358   | \n",
       "| 0.138586957  | 0.10842267   | 35.00001     | 1.27821017   | 2.095874e-01 | 0.21118403   | \n",
       "| 0.237771739  | 0.10842267   | 35.00001     | 2.19300764   | 3.504251e-02 | 0.34757449   | \n",
       "| 0.579904244  | 0.10842267   | 35.00001     | 5.34855170   | 5.582026e-06 | 0.67063108   | \n",
       "\n",
       "\n"
      ],
      "text/plain": [
       "  Estimate    Std.Error  df       t.value    p.value      R.sqr     \n",
       "1 0.005434783 0.08607585 34.60818 0.06313946 9.500187e-01 0.01073214\n",
       "2 0.036684783 0.10842267 35.00001 0.33834975 7.371210e-01 0.05709823\n",
       "3 0.094202899 0.10842267 35.00001 0.86884874 3.908490e-01 0.14530358\n",
       "4 0.138586957 0.10842267 35.00001 1.27821017 2.095874e-01 0.21118403\n",
       "5 0.237771739 0.10842267 35.00001 2.19300764 3.504251e-02 0.34757449\n",
       "6 0.579904244 0.10842267 35.00001 5.34855170 5.582026e-06 0.67063108"
      ]
     },
     "metadata": {},
     "output_type": "display_data"
    }
   ],
   "source": [
    "percepts.per.observer$occluder.as.factor <- factor(percepts.per.observer$Occluder, levels=sort(unique(percepts.per.observer$Occluder), decreasing = TRUE))\n",
    "\n",
    "aperture.levels <- sort(unique(percepts.per.observer$Occluder), decreasing = TRUE)\n",
    "aperture.labels <- sprintf('%.2f', aperture.levels)\n",
    "percepts.per.observer$aperture.as.factor <- factor(percepts.per.observer$Occluder, levels= aperture.levels, labels= aperture.labels)\n",
    "\n",
    "rcontrast<-function(t, df) {\n",
    "    return (sqrt(t^2/(t^2 + df)))\n",
    "}\n",
    "\n",
    "\n",
    "lm.aperture.as.factor <- lmerTest::lmer(P.switch ~ aperture.as.factor + (1|Observer), \n",
    "                                        data=percepts.per.observer[percepts.per.observer$Color=='yellow', ])\n",
    "summary(lm.aperture.as.factor)\n",
    "coefficients.only <- data.frame(summary(lm.aperture.as.factor)$coefficients)\n",
    "colnames(coefficients.only) <- c('Estimate', 'Std.Error', 'df', 't.value', 'p.value')\n",
    "dplyr::mutate(coefficients.only, R.sqr= rcontrast(t.value, df))"
   ]
  },
  {
   "cell_type": "markdown",
   "metadata": {},
   "source": [
    "## 4. Same analysis, but for __invisible occluder__.\n",
    "In the manuscript, this is the lower table above the plot in __Figure 3__."
   ]
  },
  {
   "cell_type": "code",
   "execution_count": 32,
   "metadata": {},
   "outputs": [
    {
     "data": {
      "text/plain": [
       "Linear mixed model fit by REML t-tests use Satterthwaite approximations to\n",
       "  degrees of freedom [lmerMod]\n",
       "Formula: P.switch ~ aperture.as.factor + (1 | Observer)\n",
       "   Data: percepts.per.observer[percepts.per.observer$Color == \"background\",  \n",
       "    ]\n",
       "\n",
       "REML criterion at convergence: 11.9\n",
       "\n",
       "Scaled residuals: \n",
       "    Min      1Q  Median      3Q     Max \n",
       "-1.4450 -0.4525 -0.1261  0.3841  2.4857 \n",
       "\n",
       "Random effects:\n",
       " Groups   Name        Variance Std.Dev.\n",
       " Observer (Intercept) 0.01314  0.1146  \n",
       " Residual             0.04920  0.2218  \n",
       "Number of obs: 48, groups:  Observer, 8\n",
       "\n",
       "Fixed effects:\n",
       "                        Estimate Std. Error       df t value Pr(>|t|)    \n",
       "(Intercept)              0.02129    0.08827 34.36000   0.241  0.81088    \n",
       "aperture.as.factor50.00  0.05772    0.11090 35.00000   0.520  0.60602    \n",
       "aperture.as.factor25.00  0.05344    0.11090 35.00000   0.482  0.63288    \n",
       "aperture.as.factor10.00  0.21784    0.11090 35.00000   1.964  0.05747 .  \n",
       "aperture.as.factor5.00   0.36594    0.11090 35.00000   3.300  0.00223 ** \n",
       "aperture.as.factor0.00   0.57860    0.11090 35.00000   5.217 8.31e-06 ***\n",
       "---\n",
       "Signif. codes:  0 '***' 0.001 '**' 0.01 '*' 0.05 '.' 0.1 ' ' 1\n",
       "\n",
       "Correlation of Fixed Effects:\n",
       "            (Intr) a..50. a..25. a..10. a..5.0\n",
       "aprt..50.00 -0.628                            \n",
       "aprt..25.00 -0.628  0.500                     \n",
       "aprt..10.00 -0.628  0.500  0.500              \n",
       "aprtr..5.00 -0.628  0.500  0.500  0.500       \n",
       "aprtr..0.00 -0.628  0.500  0.500  0.500  0.500"
      ]
     },
     "metadata": {},
     "output_type": "display_data"
    },
    {
     "data": {
      "text/html": [
       "<table>\n",
       "<thead><tr><th scope=col>Estimate</th><th scope=col>Std.Error</th><th scope=col>df</th><th scope=col>t.value</th><th scope=col>p.value</th><th scope=col>R.sqr</th></tr></thead>\n",
       "<tbody>\n",
       "\t<tr><td>0.02128623  </td><td>0.08827429  </td><td>34.36286    </td><td>0.2411374   </td><td>8.108817e-01</td><td>0.04110104  </td></tr>\n",
       "\t<tr><td>0.05771940  </td><td>0.11090063  </td><td>35.00001    </td><td>0.5204606   </td><td>6.060196e-01</td><td>0.08763541  </td></tr>\n",
       "\t<tr><td>0.05344203  </td><td>0.11090063  </td><td>35.00001    </td><td>0.4818911   </td><td>6.328830e-01</td><td>0.08118557  </td></tr>\n",
       "\t<tr><td>0.21784420  </td><td>0.11090063  </td><td>35.00001    </td><td>1.9643189   </td><td>5.747300e-02</td><td>0.31511468  </td></tr>\n",
       "\t<tr><td>0.36594203  </td><td>0.11090063  </td><td>35.00001    </td><td>3.2997291   </td><td>2.231424e-03</td><td>0.48711068  </td></tr>\n",
       "\t<tr><td>0.57860391  </td><td>0.11090063  </td><td>35.00001    </td><td>5.2173186   </td><td>8.311318e-06</td><td>0.66142540  </td></tr>\n",
       "</tbody>\n",
       "</table>\n"
      ],
      "text/latex": [
       "\\begin{tabular}{r|llllll}\n",
       " Estimate & Std.Error & df & t.value & p.value & R.sqr\\\\\n",
       "\\hline\n",
       "\t 0.02128623   & 0.08827429   & 34.36286     & 0.2411374    & 8.108817e-01 & 0.04110104  \\\\\n",
       "\t 0.05771940   & 0.11090063   & 35.00001     & 0.5204606    & 6.060196e-01 & 0.08763541  \\\\\n",
       "\t 0.05344203   & 0.11090063   & 35.00001     & 0.4818911    & 6.328830e-01 & 0.08118557  \\\\\n",
       "\t 0.21784420   & 0.11090063   & 35.00001     & 1.9643189    & 5.747300e-02 & 0.31511468  \\\\\n",
       "\t 0.36594203   & 0.11090063   & 35.00001     & 3.2997291    & 2.231424e-03 & 0.48711068  \\\\\n",
       "\t 0.57860391   & 0.11090063   & 35.00001     & 5.2173186    & 8.311318e-06 & 0.66142540  \\\\\n",
       "\\end{tabular}\n"
      ],
      "text/markdown": [
       "\n",
       "Estimate | Std.Error | df | t.value | p.value | R.sqr | \n",
       "|---|---|---|---|---|---|\n",
       "| 0.02128623   | 0.08827429   | 34.36286     | 0.2411374    | 8.108817e-01 | 0.04110104   | \n",
       "| 0.05771940   | 0.11090063   | 35.00001     | 0.5204606    | 6.060196e-01 | 0.08763541   | \n",
       "| 0.05344203   | 0.11090063   | 35.00001     | 0.4818911    | 6.328830e-01 | 0.08118557   | \n",
       "| 0.21784420   | 0.11090063   | 35.00001     | 1.9643189    | 5.747300e-02 | 0.31511468   | \n",
       "| 0.36594203   | 0.11090063   | 35.00001     | 3.2997291    | 2.231424e-03 | 0.48711068   | \n",
       "| 0.57860391   | 0.11090063   | 35.00001     | 5.2173186    | 8.311318e-06 | 0.66142540   | \n",
       "\n",
       "\n"
      ],
      "text/plain": [
       "  Estimate   Std.Error  df       t.value   p.value      R.sqr     \n",
       "1 0.02128623 0.08827429 34.36286 0.2411374 8.108817e-01 0.04110104\n",
       "2 0.05771940 0.11090063 35.00001 0.5204606 6.060196e-01 0.08763541\n",
       "3 0.05344203 0.11090063 35.00001 0.4818911 6.328830e-01 0.08118557\n",
       "4 0.21784420 0.11090063 35.00001 1.9643189 5.747300e-02 0.31511468\n",
       "5 0.36594203 0.11090063 35.00001 3.2997291 2.231424e-03 0.48711068\n",
       "6 0.57860391 0.11090063 35.00001 5.2173186 8.311318e-06 0.66142540"
      ]
     },
     "metadata": {},
     "output_type": "display_data"
    }
   ],
   "source": [
    "lm.aperture.as.factor <- lmerTest::lmer(P.switch ~ aperture.as.factor + (1|Observer), \n",
    "                                        data=percepts.per.observer[percepts.per.observer$Color=='background', ])\n",
    "summary(lm.aperture.as.factor)\n",
    "coefficients.only <- data.frame(summary(lm.aperture.as.factor)$coefficients)\n",
    "colnames(coefficients.only) <- c('Estimate', 'Std.Error', 'df', 't.value', 'p.value')\n",
    "dplyr::mutate(coefficients.only, R.sqr= rcontrast(t.value, df))"
   ]
  },
  {
   "cell_type": "markdown",
   "metadata": {},
   "source": [
    "## 5. Linear mixed models analysis but only for 5% and 10% aperture area to see whether the visibility of the occluding object matters"
   ]
  },
  {
   "cell_type": "code",
   "execution_count": 49,
   "metadata": {},
   "outputs": [
    {
     "data": {
      "text/html": [
       "<table>\n",
       "<thead><tr><th></th><th scope=col>Df</th><th scope=col>AIC</th><th scope=col>BIC</th><th scope=col>logLik</th><th scope=col>deviance</th><th scope=col>Chisq</th><th scope=col>Chi Df</th><th scope=col>Pr(&gt;Chisq)</th></tr></thead>\n",
       "<tbody>\n",
       "\t<tr><th scope=row>lm.null</th><td>3        </td><td>20.57188 </td><td>24.96909 </td><td>-7.285939</td><td>14.57188 </td><td>      NA </td><td>NA       </td><td>       NA</td></tr>\n",
       "\t<tr><th scope=row>lm.aperture.area</th><td>4        </td><td>20.91412 </td><td>26.77707 </td><td>-6.457062</td><td>12.91412 </td><td>1.657756 </td><td> 1       </td><td>0.1979066</td></tr>\n",
       "\t<tr><th scope=row>lm.color</th><td>5        </td><td>21.25288 </td><td>28.58156 </td><td>-5.626442</td><td>11.25288 </td><td>1.661240 </td><td> 1       </td><td>0.1974360</td></tr>\n",
       "</tbody>\n",
       "</table>\n"
      ],
      "text/latex": [
       "\\begin{tabular}{r|llllllll}\n",
       "  & Df & AIC & BIC & logLik & deviance & Chisq & Chi Df & Pr(>Chisq)\\\\\n",
       "\\hline\n",
       "\tlm.null & 3         & 20.57188  & 24.96909  & -7.285939 & 14.57188  &       NA  & NA        &        NA\\\\\n",
       "\tlm.aperture.area & 4         & 20.91412  & 26.77707  & -6.457062 & 12.91412  & 1.657756  &  1        & 0.1979066\\\\\n",
       "\tlm.color & 5         & 21.25288  & 28.58156  & -5.626442 & 11.25288  & 1.661240  &  1        & 0.1974360\\\\\n",
       "\\end{tabular}\n"
      ],
      "text/markdown": [
       "\n",
       "| <!--/--> | Df | AIC | BIC | logLik | deviance | Chisq | Chi Df | Pr(>Chisq) | \n",
       "|---|---|---|\n",
       "| lm.null | 3         | 20.57188  | 24.96909  | -7.285939 | 14.57188  |       NA  | NA        |        NA | \n",
       "| lm.aperture.area | 4         | 20.91412  | 26.77707  | -6.457062 | 12.91412  | 1.657756  |  1        | 0.1979066 | \n",
       "| lm.color | 5         | 21.25288  | 28.58156  | -5.626442 | 11.25288  | 1.661240  |  1        | 0.1974360 | \n",
       "\n",
       "\n"
      ],
      "text/plain": [
       "                 Df AIC      BIC      logLik    deviance Chisq    Chi Df\n",
       "lm.null          3  20.57188 24.96909 -7.285939 14.57188       NA NA    \n",
       "lm.aperture.area 4  20.91412 26.77707 -6.457062 12.91412 1.657756  1    \n",
       "lm.color         5  21.25288 28.58156 -5.626442 11.25288 1.661240  1    \n",
       "                 Pr(>Chisq)\n",
       "lm.null                 NA \n",
       "lm.aperture.area 0.1979066 \n",
       "lm.color         0.1974360 "
      ]
     },
     "metadata": {},
     "output_type": "display_data"
    },
    {
     "name": "stdout",
     "output_type": "stream",
     "text": [
      "Effect size for 5% and 10% for color only model R2: 0.435\n"
     ]
    }
   ],
   "source": [
    "percepts.per.observer$Occluder <- as.numeric(as.character(percepts.per.observer$Occluder))\n",
    "stability.5.10 <- percepts.per.observer %>% dplyr::filter(Occluder %in% c(5, 10))\n",
    "\n",
    "lm.null <- lme4::lmer(P.switch ~ 1 + (1|Observer), data=stability.5.10, REML= FALSE)\n",
    "lm.aperture.area <- update(lm.null, .~. + Occluder)\n",
    "lm.color <- update(lm.aperture.area, .~. + Color)\n",
    "anova(lm.null, lm.aperture.area, lm.color)\n",
    "\n",
    "\n",
    "r2.corr.mer <- function(m) {\n",
    "  lmfit <-  lm(model.response(model.frame(m)) ~ fitted(m))\n",
    "  summary(lmfit)$r.squared\n",
    "}\n",
    "lm.color <- update(lm.null, .~. + Color)\n",
    "cat(sprintf('Effect size for 5%% and 10%% for color only model R2: %.3f\\n', r2.corr.mer(lm.color)))"
   ]
  },
  {
   "cell_type": "markdown",
   "metadata": {},
   "source": [
    "## 6. Analysis of exogenous trigger effectiveness. \n",
    "This information is reported in the __Methods / Displays__ section in the manuscript."
   ]
  },
  {
   "cell_type": "code",
   "execution_count": 37,
   "metadata": {},
   "outputs": [
    {
     "name": "stdout",
     "output_type": "stream",
     "text": [
      "Percentage of trials with an effective exogenous trigger: 0.90±0.10 [0.70..0.97] (mean±sd [min..max])\n"
     ]
    },
    {
     "data": {
      "text/html": [
       "<table>\n",
       "<thead><tr><th scope=col>Observer</th><th scope=col>triggered.fraction</th></tr></thead>\n",
       "<tbody>\n",
       "\t<tr><td>AZM1990w </td><td>0.6959459</td></tr>\n",
       "\t<tr><td>CEN2000w </td><td>0.7916667</td></tr>\n",
       "\t<tr><td>EGN1994m </td><td>0.9696970</td></tr>\n",
       "\t<tr><td>IKB1995w </td><td>0.9680451</td></tr>\n",
       "\t<tr><td>PHM1988w </td><td>0.9436090</td></tr>\n",
       "\t<tr><td>SDA1995M </td><td>0.9583333</td></tr>\n",
       "\t<tr><td>SKL1994w </td><td>0.9659091</td></tr>\n",
       "\t<tr><td>UKS1989m </td><td>0.9384615</td></tr>\n",
       "</tbody>\n",
       "</table>\n"
      ],
      "text/latex": [
       "\\begin{tabular}{r|ll}\n",
       " Observer & triggered.fraction\\\\\n",
       "\\hline\n",
       "\t AZM1990w  & 0.6959459\\\\\n",
       "\t CEN2000w  & 0.7916667\\\\\n",
       "\t EGN1994m  & 0.9696970\\\\\n",
       "\t IKB1995w  & 0.9680451\\\\\n",
       "\t PHM1988w  & 0.9436090\\\\\n",
       "\t SDA1995M  & 0.9583333\\\\\n",
       "\t SKL1994w  & 0.9659091\\\\\n",
       "\t UKS1989m  & 0.9384615\\\\\n",
       "\\end{tabular}\n"
      ],
      "text/markdown": [
       "\n",
       "Observer | triggered.fraction | \n",
       "|---|---|---|---|---|---|---|---|\n",
       "| AZM1990w  | 0.6959459 | \n",
       "| CEN2000w  | 0.7916667 | \n",
       "| EGN1994m  | 0.9696970 | \n",
       "| IKB1995w  | 0.9680451 | \n",
       "| PHM1988w  | 0.9436090 | \n",
       "| SDA1995M  | 0.9583333 | \n",
       "| SKL1994w  | 0.9659091 | \n",
       "| UKS1989m  | 0.9384615 | \n",
       "\n",
       "\n"
      ],
      "text/plain": [
       "  Observer triggered.fraction\n",
       "1 AZM1990w 0.6959459         \n",
       "2 CEN2000w 0.7916667         \n",
       "3 EGN1994m 0.9696970         \n",
       "4 IKB1995w 0.9680451         \n",
       "5 PHM1988w 0.9436090         \n",
       "6 SDA1995M 0.9583333         \n",
       "7 SKL1994w 0.9659091         \n",
       "8 UKS1989m 0.9384615         "
      ]
     },
     "metadata": {},
     "output_type": "display_data"
    }
   ],
   "source": [
    "trigger.effectiveness <- results %>%\n",
    "    dplyr::group_by(Observer, Block, Trial) %>%\n",
    "    dplyr::summarize(\n",
    "        has.trigger= sum(Event=='Reverse rotation')>0,\n",
    "        report.before.midpoint= sum((Event=='Percept')>0 & (after.midpoint==FALSE))>0\n",
    "    ) %>%\n",
    "    dplyr::filter(has.trigger==TRUE) %>%\n",
    "    dplyr::group_by(Observer) %>%\n",
    "    dplyr::summarize(\n",
    "        triggered.fraction= sum(report.before.midpoint)/n()\n",
    "    )\n",
    "\n",
    "cat(sprintf('Percentage of trials with an effective exogenous trigger: %.2f±%.2f [%.2f..%.2f] (mean±sd [min..max])\\n', \n",
    "        mean(trigger.effectiveness$triggered.fraction),\n",
    "        sd(trigger.effectiveness$triggered.fraction),\n",
    "        min(trigger.effectiveness$triggered.fraction),\n",
    "        max(trigger.effectiveness$triggered.fraction)))\n",
    "\n",
    "trigger.effectiveness"
   ]
  }
 ],
 "metadata": {
  "kernelspec": {
   "display_name": "R",
   "language": "R",
   "name": "ir"
  },
  "language_info": {
   "codemirror_mode": "r",
   "file_extension": ".r",
   "mimetype": "text/x-r-source",
   "name": "R",
   "pygments_lexer": "r",
   "version": "3.4.2"
  }
 },
 "nbformat": 4,
 "nbformat_minor": 1
}
