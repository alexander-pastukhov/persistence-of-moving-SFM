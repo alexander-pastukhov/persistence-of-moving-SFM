{
 "cells": [
  {
   "cell_type": "markdown",
   "metadata": {},
   "source": [
    "# Experiment 3B. Gaze stability during the prompted blinks"
   ]
  },
  {
   "cell_type": "code",
   "execution_count": 5,
   "metadata": {
    "collapsed": true
   },
   "outputs": [],
   "source": [
    "rm(list=ls())"
   ]
  },
  {
   "cell_type": "code",
   "execution_count": 6,
   "metadata": {},
   "outputs": [],
   "source": [
    "library(ggplot2)\n",
    "library(dplyr)\n",
    "library(BayesFactor)\n",
    "library(lme4)\n",
    "library(IRdisplay)"
   ]
  },
  {
   "cell_type": "markdown",
   "metadata": {},
   "source": [
    "To speed the analysis up, samples before and after the blink are marked down via the C++ code"
   ]
  },
  {
   "cell_type": "code",
   "execution_count": 7,
   "metadata": {},
   "outputs": [],
   "source": [
    "library(Rcpp)\n",
    "library(devtools)\n",
    "got.rtools <- devtools::find_rtools()\n",
    "sourceCpp(\"process_samples.cpp\") "
   ]
  },
  {
   "cell_type": "markdown",
   "metadata": {},
   "source": [
    "## Preprocessing the data the same way as in the main analysis but retaining only spontaneous switches"
   ]
  },
  {
   "cell_type": "code",
   "execution_count": 8,
   "metadata": {},
   "outputs": [],
   "source": [
    "all.edf.files <- list.files(path= 'Experiment 3', pattern= 'edf[.]csv$')\n",
    "events <- data.frame() # complete copy\n",
    "all.events <- data.frame() # no duplicate percept events (i.e., same percept reported before and after the blink)\n",
    "for(current.filename in all.edf.files){\n",
    "    # figuring out the experimental condition: response to the sound was either to blink or to ignore sound\n",
    "    condition <- ifelse(grepl('blink', current.filename), 'blink', 'ignore sound')\n",
    "    re.ID <- regexpr('[[:alpha:]]{3}[[:digit:]]{2,4}[[:alpha:]]', current.filename)\n",
    "    ID<- regmatches(current.filename, re.ID)\n",
    "        \n",
    "    # loading current observer\n",
    "    current.observer.edf <- read.csv2(normalizePath(paste(\"Experiment 3\", current.filename, sep='/')))\n",
    "    \n",
    "    # adding translational motion direction (missing in the eyetracker logs by mistake)\n",
    "    current.observer.log <- read.csv2(normalizePath(paste(\"Experiment 3\", gsub('_edf', '', current.filename), sep='/')))\n",
    "    trial.motion.direction <- current.observer.log %>% \n",
    "        dplyr::group_by(Block, Trial) %>% \n",
    "        dplyr::summarize(Direction= Direction[1])\n",
    "    \n",
    "    current.observer <- merge(current.observer.edf, trial.motion.direction, by= c('Block', 'Trial'))\n",
    "    \n",
    "    # adding ID and condition\n",
    "    current.observer$Filename <- current.filename\n",
    "    current.observer$Observer <- ID\n",
    "    current.observer$Condition <- condition\n",
    "    current.observer <- current.observer %>% dplyr::arrange(Block, Trial, Time)\n",
    "    \n",
    "    # storing ALL events in the data frame\n",
    "    all.events <- rbind(all.events, current.observer)\n",
    "    \n",
    "    # removing duplicate percepts, i.e. a participant reporting same percept again after the blink\n",
    "    i.duplicates <- c()\n",
    "    for(current.block in unique(current.observer$Block)){\n",
    "        current.percept <- 100 # percept code that is definitely different from anything being reported\n",
    "        for(i.row in which(current.observer$Block==current.block)){\n",
    "            if (current.observer$Event[i.row]=='percept'){\n",
    "                if (current.percept == current.observer$Value[i.row]){\n",
    "                    i.duplicates <- c(i.duplicates, i.row)\n",
    "                }\n",
    "                current.percept <- current.observer$Value[i.row]\n",
    "            }\n",
    "        }\n",
    "    }\n",
    "    if (length(i.duplicates)>0){\n",
    "        current.observer <- current.observer[-i.duplicates, ]\n",
    "    }\n",
    "    \n",
    "    # storing the cleaned-up version in the main table\n",
    "    events <- rbind(events, current.observer)\n",
    "}"
   ]
  },
  {
   "cell_type": "markdown",
   "metadata": {},
   "source": [
    "Trial types:\n",
    "* Baseline (no sound or blink during the entire trial): switch reported between 0.1 and 0.4 relative location, as for Experiments 1 and 2\n",
    "* Sound (but no blink): switch reported between 0.2 and 0.8 seconds after the sound onset\n",
    "* Prompted blink: switch reported between 0.2 and 0.8 second after eyes were opened\n",
    "* Spontaneous blink: switch reported between 0.2 and 0.8 second after eyes were opened (first blink only, if multiple are present)"
   ]
  },
  {
   "cell_type": "code",
   "execution_count": 9,
   "metadata": {},
   "outputs": [],
   "source": [
    "classify.trial <- function(event.time, event.type, event.value, block.condition){\n",
    "    had.sound <- sum(event.type=='sound')\n",
    "    had.blink <- sum(event.type=='blink')\n",
    "    \n",
    "    if (had.blink>1){\n",
    "        return('Multiple blinks')\n",
    "    }\n",
    "    \n",
    "    if (!had.sound & !had.blink){\n",
    "        # neither sound nor blink were present\n",
    "        return('Baseline')\n",
    "    }\n",
    "    else{\n",
    "        if (had.sound){\n",
    "            if (had.blink){\n",
    "                if (block.condition=='blink'){\n",
    "                    return('Prompted blink')                        \n",
    "                }\n",
    "                else {\n",
    "                    return('Spontaneous blink')\n",
    "                }\n",
    "            }\n",
    "            else{\n",
    "                return('Sound')\n",
    "            }\n",
    "        }\n",
    "        else{\n",
    "            return('Spontaneous blink')\n",
    "        }\n",
    "    }\n",
    "}\n",
    "trial <- events %>%\n",
    "    dplyr::group_by(Observer, Condition, Block, Trial) %>%\n",
    "    dplyr::summarize(trial.type= classify.trial(Time, Event, Value, Condition[1]))\n",
    "\n",
    "# merging the info back into the events table\n",
    "trial.events <- merge(events, trial, by= c('Observer', 'Condition', 'Block', 'Trial')) %>% \n",
    "    dplyr::arrange(Observer, Condition, Block, Trial)"
   ]
  },
  {
   "cell_type": "markdown",
   "metadata": {},
   "source": [
    "Retaining only the spontaneous blinks for the analysis"
   ]
  },
  {
   "cell_type": "code",
   "execution_count": 10,
   "metadata": {},
   "outputs": [
    {
     "data": {
      "text/html": [
       "<table>\n",
       "<thead><tr><th scope=col>Observer</th><th scope=col>count</th></tr></thead>\n",
       "<tbody>\n",
       "\t<tr><td>AZM1990W</td><td> 90     </td></tr>\n",
       "\t<tr><td>EBK1991m</td><td>124     </td></tr>\n",
       "\t<tr><td>EGN1994M</td><td>116     </td></tr>\n",
       "\t<tr><td>KKF1994w</td><td>118     </td></tr>\n",
       "\t<tr><td>PHM88W  </td><td>126     </td></tr>\n",
       "\t<tr><td>SDA1995M</td><td>125     </td></tr>\n",
       "\t<tr><td>SDL1990m</td><td> 98     </td></tr>\n",
       "\t<tr><td>SKL94w  </td><td>119     </td></tr>\n",
       "\t<tr><td>UKS1989M</td><td>125     </td></tr>\n",
       "</tbody>\n",
       "</table>\n"
      ],
      "text/latex": [
       "\\begin{tabular}{r|ll}\n",
       " Observer & count\\\\\n",
       "\\hline\n",
       "\t AZM1990W &  90     \\\\\n",
       "\t EBK1991m & 124     \\\\\n",
       "\t EGN1994M & 116     \\\\\n",
       "\t KKF1994w & 118     \\\\\n",
       "\t PHM88W   & 126     \\\\\n",
       "\t SDA1995M & 125     \\\\\n",
       "\t SDL1990m &  98     \\\\\n",
       "\t SKL94w   & 119     \\\\\n",
       "\t UKS1989M & 125     \\\\\n",
       "\\end{tabular}\n"
      ],
      "text/markdown": [
       "\n",
       "Observer | count | \n",
       "|---|---|---|---|---|---|---|---|---|\n",
       "| AZM1990W |  90      | \n",
       "| EBK1991m | 124      | \n",
       "| EGN1994M | 116      | \n",
       "| KKF1994w | 118      | \n",
       "| PHM88W   | 126      | \n",
       "| SDA1995M | 125      | \n",
       "| SDL1990m |  98      | \n",
       "| SKL94w   | 119      | \n",
       "| UKS1989M | 125      | \n",
       "\n",
       "\n"
      ],
      "text/plain": [
       "  Observer count\n",
       "1 AZM1990W  90  \n",
       "2 EBK1991m 124  \n",
       "3 EGN1994M 116  \n",
       "4 KKF1994w 118  \n",
       "5 PHM88W   126  \n",
       "6 SDA1995M 125  \n",
       "7 SDL1990m  98  \n",
       "8 SKL94w   119  \n",
       "9 UKS1989M 125  "
      ]
     },
     "metadata": {},
     "output_type": "display_data"
    }
   ],
   "source": [
    "blinks <- trial.events %>% \n",
    "#     dplyr::filter(Event=='blink' & trial.type=='Spontaneous blink')\n",
    "    dplyr::filter(Event=='blink' & trial.type=='Prompted blink')\n",
    "\n",
    "# precomputing blink offset (and converting duration to a number)\n",
    "blinks$Value <- as.integer(as.character(blinks$Value))\n",
    "blinks$Offset <- blinks$Time + blinks$Value\n",
    "\n",
    "\n",
    "# count them per participant\n",
    "blink.count <- blinks %>%\n",
    "    dplyr::group_by(Observer) %>%\n",
    "    dplyr::summarize(count= n())\n",
    "blink.count"
   ]
  },
  {
   "cell_type": "markdown",
   "metadata": {},
   "source": [
    "## Computing gaze shift _before_ and _after_ the blink\n",
    "(takes time!)\n",
    "\n",
    "Specifically, computing mean horizontal gaze position before and after the blink (using 100 ms window), computing the change in the position as `post-pre` and correcting this difference for the direction of the object's motion. Since samples data is too large, we'll have to cycle through the files one by one"
   ]
  },
  {
   "cell_type": "code",
   "execution_count": 30,
   "metadata": {},
   "outputs": [
    {
     "name": "stdout",
     "output_type": "stream",
     "text": [
      "AZM1990W: blink\n",
      "EBK1991m: blink\n",
      "EGN1994M: blink\n",
      "KKF1994w: blink\n",
      "PHM88W: blink\n",
      "SDA1995M: blink\n",
      "SDL1990m: blink\n",
      "SKL94w: blink\n",
      "UKS1989M: blink\n"
     ]
    }
   ],
   "source": [
    "# Extracting samples before and after the blink ---------------------------\n",
    "gaze.shift <- data.frame()\n",
    "for(current.observer in unique(blinks$Observer)){\n",
    "  for(current.condition in unique(blinks$Condition[blinks$Observer==current.observer])){\n",
    "    cat(sprintf('%s: %s\\n', current.observer, current.condition))\n",
    "    \n",
    "    # getting samples\n",
    "    iEvents <- which((blinks$Observer==current.observer) & (blinks$Condition==current.condition))\n",
    "    current.blinks <- blinks[iEvents, ]\n",
    "    samples.filename <- gsub('edf', 'samples', blinks$Filename[iEvents[1]])\n",
    "    samples <- read.csv2(normalizePath(paste(\"Experiment 3\", samples.filename, sep='/')), dec = '.')\n",
    "\n",
    "    \n",
    "    # dropping everything except for Time, Block, and gxL and gxR\n",
    "    samples <- samples %>% \n",
    "      dplyr::select(Time, Block, gxL, gxR)\n",
    "    \n",
    "    # making sure that samples make sense\n",
    "    screen.size.pixels <- c(1680, 1050)\n",
    "    samples$gxL[samples$gxL>screen.size.pixels[1]] <- NA\n",
    "    samples$gxR[samples$gxR>screen.size.pixels[1]] <- NA\n",
    "\n",
    "    # averaging gaze position\n",
    "    samples$gx <- rowMeans(subset(samples, select= c('gxL', 'gxR')), na.rm= TRUE)\n",
    "    \n",
    "    \n",
    "    # processing time around blinks\n",
    "    marked.samples <- data.frame(mark_samples_around_blink(samples, blinks[iEvents, ], 100))\n",
    "    \n",
    "    block.gaze.shift <- marked.samples %>%\n",
    "      dplyr::filter(is.finite(Location)) %>%\n",
    "      dplyr::group_by(Block, Trial, Location) %>%\n",
    "      dplyr::summarise(Direction= Direction[1], mean.gx= mean(gx, na.rm= TRUE)) %>%\n",
    "      tidyr::spread(Location, mean.gx, sep='')\n",
    "    \n",
    "    colnames(block.gaze.shift) <- c('Block', 'Trial', 'Direction', 'Pre', 'Post')\n",
    "    block.gaze.shift$dX <- block.gaze.shift$Post-block.gaze.shift$Pre\n",
    "    block.gaze.shift$Observer <- current.observer\n",
    "    \n",
    "    gaze.shift<- rbind(gaze.shift, data.frame(block.gaze.shift))\n",
    "  }\n",
    "}"
   ]
  },
  {
   "cell_type": "code",
   "execution_count": 42,
   "metadata": {},
   "outputs": [
    {
     "data": {
      "text/html": [
       "<table>\n",
       "<thead><tr><th></th><th scope=col>Df</th><th scope=col>AIC</th><th scope=col>BIC</th><th scope=col>logLik</th><th scope=col>deviance</th><th scope=col>Chisq</th><th scope=col>Chi Df</th><th scope=col>Pr(&gt;Chisq)</th></tr></thead>\n",
       "<tbody>\n",
       "\t<tr><th scope=row>lm.null</th><td>3           </td><td>1853.044    </td><td>1862.115    </td><td>-923.5219   </td><td>1847.044    </td><td>      NA    </td><td>NA          </td><td>          NA</td></tr>\n",
       "\t<tr><th scope=row>lm.direction</th><td>4           </td><td>1841.243    </td><td>1853.339    </td><td>-916.6216   </td><td>1833.243    </td><td>13.80043    </td><td> 1          </td><td>0.0002032893</td></tr>\n",
       "</tbody>\n",
       "</table>\n"
      ],
      "text/latex": [
       "\\begin{tabular}{r|llllllll}\n",
       "  & Df & AIC & BIC & logLik & deviance & Chisq & Chi Df & Pr(>Chisq)\\\\\n",
       "\\hline\n",
       "\tlm.null & 3            & 1853.044     & 1862.115     & -923.5219    & 1847.044     &       NA     & NA           &           NA\\\\\n",
       "\tlm.direction & 4            & 1841.243     & 1853.339     & -916.6216    & 1833.243     & 13.80043     &  1           & 0.0002032893\\\\\n",
       "\\end{tabular}\n"
      ],
      "text/markdown": [
       "\n",
       "| <!--/--> | Df | AIC | BIC | logLik | deviance | Chisq | Chi Df | Pr(>Chisq) | \n",
       "|---|---|\n",
       "| lm.null | 3            | 1853.044     | 1862.115     | -923.5219    | 1847.044     |       NA     | NA           |           NA | \n",
       "| lm.direction | 4            | 1841.243     | 1853.339     | -916.6216    | 1833.243     | 13.80043     |  1           | 0.0002032893 | \n",
       "\n",
       "\n"
      ],
      "text/plain": [
       "             Df AIC      BIC      logLik    deviance Chisq    Chi Df\n",
       "lm.null      3  1853.044 1862.115 -923.5219 1847.044       NA NA    \n",
       "lm.direction 4  1841.243 1853.339 -916.6216 1833.243 13.80043  1    \n",
       "             Pr(>Chisq)  \n",
       "lm.null                NA\n",
       "lm.direction 0.0002032893"
      ]
     },
     "metadata": {},
     "output_type": "display_data"
    },
    {
     "name": "stdout",
     "output_type": "stream",
     "text": [
      "R2 for direction model:  0.08679266"
     ]
    }
   ],
   "source": [
    "gaze.shift$Direction.F <- as.factor(gaze.shift$Direction)\n",
    "lm.null <- lme4::lmer(dX ~ 1 + (1|Observer), data= na.omit(gaze.shift), REML= FALSE)\n",
    "lm.direction <- update(lm.null, .~. + Direction)\n",
    "anova(lm.null, lm.direction)\n",
    "\n",
    "\n",
    "r2.corr.mer <- function(m) {\n",
    "  lmfit <-  lm(model.response(model.frame(m)) ~ fitted(m))\n",
    "  summary(lmfit)$r.squared\n",
    "}\n",
    "cat('R2 for direction model: ', r2.corr.mer(lm.direction))"
   ]
  },
  {
   "cell_type": "code",
   "execution_count": 43,
   "metadata": {},
   "outputs": [
    {
     "data": {
      "text/html": [
       "<table>\n",
       "<thead><tr><th scope=col>shift.mean</th><th scope=col>shift.sd</th></tr></thead>\n",
       "<tbody>\n",
       "\t<tr><td>0.8346649</td><td>0.6482749</td></tr>\n",
       "</tbody>\n",
       "</table>\n"
      ],
      "text/latex": [
       "\\begin{tabular}{r|ll}\n",
       " shift.mean & shift.sd\\\\\n",
       "\\hline\n",
       "\t 0.8346649 & 0.6482749\\\\\n",
       "\\end{tabular}\n"
      ],
      "text/markdown": [
       "\n",
       "shift.mean | shift.sd | \n",
       "|---|\n",
       "| 0.8346649 | 0.6482749 | \n",
       "\n",
       "\n"
      ],
      "text/plain": [
       "  shift.mean shift.sd \n",
       "1 0.8346649  0.6482749"
      ]
     },
     "metadata": {},
     "output_type": "display_data"
    },
    {
     "data": {
      "image/png": "[encoded data removed]",
      "text/plain": [
       "plot without title"
      ]
     },
     "metadata": {},
     "output_type": "display_data"
    }
   ],
   "source": [
    "dx.test <- t.test(gaze.shift$dX)\n",
    "\n",
    "deg.per.pixel= 0.0302 # for the screen and eye-screen distance as described in methods\n",
    "\n",
    "mean.shift <- gaze.shift %>%\n",
    "    dplyr::group_by(Observer) %>%\n",
    "    dplyr::summarise(shift= mean(dX * Direction * deg.per.pixel, na.rm= TRUE)) %>%\n",
    "    dplyr::summarize(shift.mean= mean(shift), shift.sd= sd(shift)/sqrt(n()-1))\n",
    "\n",
    "mean.shift\n",
    "\n",
    "hist.plot <- ggplot(data= na.omit(gaze.shift), aes(x= dX * Direction * deg.per.pixel)) + \n",
    "    geom_histogram(bins= 31, alpha= 0.5) + \n",
    "    geom_vline(xintercept = mean.shift$shift.mean + c(-mean.shift$shift.sd, 0, mean.shift$shift.sd)) +\n",
    "    xlab(\"Gaze shift in the direction of the object's motion [deg]\") + \n",
    "    ylab('Bin count')\n",
    "print(hist.plot)"
   ]
  },
  {
   "cell_type": "code",
   "execution_count": 18,
   "metadata": {},
   "outputs": [
    {
     "data": {
      "text/html": [
       "<table>\n",
       "<thead><tr><th scope=col>Block</th><th scope=col>Trial</th><th scope=col>Direction</th><th scope=col>Pre</th><th scope=col>Post</th><th scope=col>dX</th><th scope=col>corrected.dX</th></tr></thead>\n",
       "<tbody>\n",
       "\t<tr><td>1       </td><td> 2      </td><td>-1      </td><td>849.2785</td><td>990.6395</td><td>141.361 </td><td>TRUE    </td></tr>\n",
       "\t<tr><td>1       </td><td> 5      </td><td> 1      </td><td>835.7115</td><td>862.8455</td><td> 27.134 </td><td>TRUE    </td></tr>\n",
       "\t<tr><td>1       </td><td>11      </td><td> 1      </td><td>882.0900</td><td>884.8240</td><td>  2.734 </td><td>TRUE    </td></tr>\n",
       "\t<tr><td>1       </td><td>12      </td><td>-1      </td><td>825.4395</td><td>793.1085</td><td>-32.331 </td><td>TRUE    </td></tr>\n",
       "\t<tr><td>1       </td><td>17      </td><td> 1      </td><td>865.7595</td><td>842.0915</td><td>-23.668 </td><td>TRUE    </td></tr>\n",
       "\t<tr><td>1       </td><td>18      </td><td>-1      </td><td>931.9795</td><td>909.1215</td><td>-22.858 </td><td>TRUE    </td></tr>\n",
       "</tbody>\n",
       "</table>\n"
      ],
      "text/latex": [
       "\\begin{tabular}{r|lllllll}\n",
       " Block & Trial & Direction & Pre & Post & dX & corrected.dX\\\\\n",
       "\\hline\n",
       "\t 1        &  2       & -1       & 849.2785 & 990.6395 & 141.361  & TRUE    \\\\\n",
       "\t 1        &  5       &  1       & 835.7115 & 862.8455 &  27.134  & TRUE    \\\\\n",
       "\t 1        & 11       &  1       & 882.0900 & 884.8240 &   2.734  & TRUE    \\\\\n",
       "\t 1        & 12       & -1       & 825.4395 & 793.1085 & -32.331  & TRUE    \\\\\n",
       "\t 1        & 17       &  1       & 865.7595 & 842.0915 & -23.668  & TRUE    \\\\\n",
       "\t 1        & 18       & -1       & 931.9795 & 909.1215 & -22.858  & TRUE    \\\\\n",
       "\\end{tabular}\n"
      ],
      "text/markdown": [
       "\n",
       "Block | Trial | Direction | Pre | Post | dX | corrected.dX | \n",
       "|---|---|---|---|---|---|\n",
       "| 1        |  2       | -1       | 849.2785 | 990.6395 | 141.361  | TRUE     | \n",
       "| 1        |  5       |  1       | 835.7115 | 862.8455 |  27.134  | TRUE     | \n",
       "| 1        | 11       |  1       | 882.0900 | 884.8240 |   2.734  | TRUE     | \n",
       "| 1        | 12       | -1       | 825.4395 | 793.1085 | -32.331  | TRUE     | \n",
       "| 1        | 17       |  1       | 865.7595 | 842.0915 | -23.668  | TRUE     | \n",
       "| 1        | 18       | -1       | 931.9795 | 909.1215 | -22.858  | TRUE     | \n",
       "\n",
       "\n"
      ],
      "text/plain": [
       "  Block Trial Direction Pre      Post     dX      corrected.dX\n",
       "1 1      2    -1        849.2785 990.6395 141.361 TRUE        \n",
       "2 1      5     1        835.7115 862.8455  27.134 TRUE        \n",
       "3 1     11     1        882.0900 884.8240   2.734 TRUE        \n",
       "4 1     12    -1        825.4395 793.1085 -32.331 TRUE        \n",
       "5 1     17     1        865.7595 842.0915 -23.668 TRUE        \n",
       "6 1     18    -1        931.9795 909.1215 -22.858 TRUE        "
      ]
     },
     "metadata": {},
     "output_type": "display_data"
    }
   ],
   "source": [
    "head(gaze.shift)"
   ]
  }
 ],
 "metadata": {
  "kernelspec": {
   "display_name": "R",
   "language": "R",
   "name": "ir"
  },
  "language_info": {
   "codemirror_mode": "r",
   "file_extension": ".r",
   "mimetype": "text/x-r-source",
   "name": "R",
   "pygments_lexer": "r",
   "version": "3.4.2"
  }
 },
 "nbformat": 4,
 "nbformat_minor": 1
}
