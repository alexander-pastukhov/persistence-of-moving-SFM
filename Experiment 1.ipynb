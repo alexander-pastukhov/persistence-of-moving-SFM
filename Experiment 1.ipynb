{
 "cells": [
  {
   "cell_type": "markdown",
   "metadata": {},
   "source": [
    "# Experiment 1.\n",
    "\n",
    "Generates all figures, tables, and statistical comparisons for the __Results / Experiment 1__ section, as well as additional infromation for the __Methods__ section."
   ]
  },
  {
   "cell_type": "code",
   "execution_count": 4,
   "metadata": {},
   "outputs": [],
   "source": [
    "rm(list=ls())"
   ]
  },
  {
   "cell_type": "code",
   "execution_count": 2,
   "metadata": {},
   "outputs": [],
   "source": [
    "library(dplyr)\n",
    "library(gtools)\n",
    "library(ggplot2)\n",
    "library(binom)\n",
    "library(BayesFactor)\n",
    "library(lme4)\n",
    "library(Hmisc)\n",
    "library(lmerTest)"
   ]
  },
  {
   "cell_type": "markdown",
   "metadata": {},
   "source": [
    "## 1. Combining files from individual observers into a single table.\n",
    "Also marking out individual trials and removing duplicate key presses"
   ]
  },
  {
   "cell_type": "code",
   "execution_count": 3,
   "metadata": {},
   "outputs": [],
   "source": [
    "all.csv.files <- list.files(path= 'Experiment 1', pattern= '*.csv')\n",
    "results <- data.frame()\n",
    "\n",
    "for(current.filename in all.csv.files){\n",
    "    # reading the single participant data\n",
    "    current.observer <- read.csv2(normalizePath(paste('Experiment 1', current.filename, sep='/')))\n",
    "    \n",
    "    # correcting any rounding errors on the RelativeLocation\n",
    "    current.observer$RelativeLocation[current.observer$RelativeLocation< -1]<- -1\n",
    "    current.observer$RelativeLocation[current.observer$RelativeLocation> 1]<-  1\n",
    "    \n",
    "    # making sure that sfmWidth in numeric, not factor\n",
    "    current.observer$sfmWidth <- as.numeric(as.character(current.observer$sfmWidth))    \n",
    "    \n",
    "    # adding trial index (time between two extremeties)\n",
    "    current.observer$Trial <- NA\n",
    "    for(current.block in unique(current.observer$Block)){\n",
    "        iTrialStartEnd <- which((current.observer$Block==current.block) &  \n",
    "                                 current.observer$Event %in% c('Block start', 'Trajectory limit', 'Block end'))\n",
    "        \n",
    "        for(iCurrentTrial in 1:(length(iTrialStartEnd)-1)){\n",
    "            current.observer$Trial[iTrialStartEnd[iCurrentTrial]:iTrialStartEnd[iCurrentTrial+1]]<- iCurrentTrial\n",
    "        }\n",
    "    }\n",
    "    \n",
    "    # removing duplicate percepts, i.e. a participant reporting same percept again\n",
    "    i.duplicates <- c()\n",
    "    for(current.block in unique(current.observer$Block)){\n",
    "        \n",
    "        current.percept <- 100 # percept code that is definitely different from anything being reported\n",
    "        for(i.row in which(current.observer$Block==current.block)){\n",
    "            if (current.observer$Event[i.row]=='Percept'){\n",
    "                if (current.percept == current.observer$Value[i.row]){\n",
    "                    i.duplicates <- c(i.duplicates, i.row)\n",
    "                }\n",
    "                current.percept <- current.observer$Value[i.row]\n",
    "            }\n",
    "        }\n",
    "    }\n",
    "    if (length(i.duplicates)>0){\n",
    "        current.observer <- current.observer[-i.duplicates, ]\n",
    "    }    \n",
    "    \n",
    "    # binding tables\n",
    "    results <- rbind(results, current.observer)\n",
    "}\n",
    "\n",
    "# normalizing sfmWidth by the occluder width\n",
    "occluder.width <- 150\n",
    "results$sfmWidth <- results$sfmWidth/occluder.width\n",
    "\n",
    "# being tidy\n",
    "rm(list=setdiff(ls(), \"results\"))"
   ]
  },
  {
   "cell_type": "markdown",
   "metadata": {},
   "source": [
    "## 2. Computing probability that perception switches after the mid-point (passing behind the occluding object), as a function of the object's width (sfmWidth), factoring in the presence of halo (showHalo) and  sound (playSound)\n",
    "\n",
    "First, we compute number of percepts reported right after the object passed the midpoint. More specifically, we count trials when participants reported the percept between 200 ms and 800 ms after the midpoint (0.1 to 0.4 in normalized location units)"
   ]
  },
  {
   "cell_type": "code",
   "execution_count": 4,
   "metadata": {},
   "outputs": [],
   "source": [
    "# computing whether an event occured before or after the mid-point\n",
    "results$normalized.location <- results$RelativeLocation*results$Direction\n",
    "results$after.midpoint <- results$normalized.location>0\n",
    "\n",
    "# counting post midpoint percept onsets (e.i., switches) for each trial\n",
    "percepts.per.trial <- results %>%\n",
    "    dplyr::group_by(Observer, Trial, sfmWidth, showHalo, playSound) %>%\n",
    "    dplyr::summarize(percepts.after.midpoint= sum(Event=='Percept' & normalized.location>0.1 & normalized.location<0.4))\n",
    "percepts.per.trial <- data.frame(percepts.per.trial)\n",
    "\n",
    "# computing number of trials with at least on post-mid-point switch and total number of trials\n",
    "percepts.per.observer <- percepts.per.trial %>%\n",
    "    dplyr::group_by(Observer, sfmWidth, showHalo, playSound) %>%\n",
    "    dplyr::summarise(\n",
    "        trials.with.at.least.one.percept= sum(percepts.after.midpoint>0),\n",
    "        trials.with.one.percept= sum(percepts.after.midpoint==1),\n",
    "        trial.count= n(),\n",
    "        P.switch= trials.with.at.least.one.percept/trial.count)\n",
    "percepts.per.observer$sfmWidth <- as.numeric(as.character(percepts.per.observer$sfmWidth))\n",
    "percepts.per.observer <- data.frame(percepts.per.observer)\n",
    "\n",
    "# logit conversion (for ANOVA)\n",
    "tiny.correction <- 1e-10\n",
    "percepts.per.observer$logit.P.switch <- logit(percepts.per.observer$P.switch*(1-2*tiny.correction)+tiny.correction)"
   ]
  },
  {
   "cell_type": "markdown",
   "metadata": {},
   "source": [
    "Computing group averages for each condition, plus a 95% binomial confidence interval from a beta posterior (see `binom.bayes` function from __binom__ library for details)."
   ]
  },
  {
   "cell_type": "code",
   "execution_count": 5,
   "metadata": {},
   "outputs": [],
   "source": [
    "percepts.per.condition <- percepts.per.observer %>%\n",
    "      dplyr::group_by(sfmWidth, showHalo, playSound) %>%\n",
    "      dplyr::summarise(total.trial.count= sum(trial.count),\n",
    "                       P.mean= mean(P.switch),\n",
    "                       P.ci.lower= binom.bayes(round(total.trial.count*mean(P.switch)), total.trial.count)$lower,\n",
    "                       P.ci.upper= binom.bayes(round(total.trial.count*mean(P.switch)), total.trial.count)$upper)"
   ]
  },
  {
   "cell_type": "markdown",
   "metadata": {},
   "source": [
    "Plotting group averages for the __Figure 2__ in the manuscript"
   ]
  },
  {
   "cell_type": "code",
   "execution_count": 6,
   "metadata": {},
   "outputs": [
    {
     "data": {
      "image/png": "[encoded data removed]",
      "text/plain": [
       "plot without title"
      ]
     },
     "metadata": {},
     "output_type": "display_data"
    }
   ],
   "source": [
    "survival.plot <- ggplot(percepts.per.condition, aes(x= sfmWidth, y= P.mean, \n",
    "                                                    ymin=P.ci.lower, ymax= P.ci.upper, \n",
    "                                                    color= showHalo, shape= playSound))+\n",
    "    geom_line()+\n",
    "    geom_errorbar()+\n",
    "    geom_point(size= 5)+ \n",
    "    xlab(\"Object/Occluder width\") + ylab(expression(P[switch]))+\n",
    "    scale_x_log10(breaks=unique(percepts.per.condition$sfmWidth), \n",
    "                  labels = sprintf('%.2f', unique(percepts.per.condition$sfmWidth)),\n",
    "                  minor_breaks = c())\n",
    "print(survival.plot)\n",
    "ggsave(file=\"Generated figures/Experiment 1 - group averages.pdf\", plot= survival.plot, width= 16, height= 12, units = 'cm')"
   ]
  },
  {
   "cell_type": "markdown",
   "metadata": {},
   "source": [
    "### Using `anovaBF` from `BayesFactor` to identify the best model for the data. \n",
    "Column __Bayes Factor__ of the __Table 1__ in the manuscript."
   ]
  },
  {
   "cell_type": "code",
   "execution_count": 7,
   "metadata": {},
   "outputs": [
    {
     "data": {
      "text/plain": [
       "Bayes factor analysis\n",
       "--------------\n",
       "[1] sfmWidth + Observer                                                                                                                     : 220811.2   ±0.6%\n",
       "[2] sfmWidth + showHalo + Observer                                                                                                          : 110331.3   ±1.33%\n",
       "[3] sfmWidth + playSound + Observer                                                                                                         : 36260.29   ±3.08%\n",
       "[4] sfmWidth + showHalo + playSound + Observer                                                                                              : 18713.76   ±5.25%\n",
       "[5] sfmWidth + showHalo + sfmWidth:showHalo + Observer                                                                                      : 12741.63   ±1.18%\n",
       "[6] sfmWidth + showHalo + playSound + showHalo:playSound + Observer                                                                         : 7896.705   ±4.18%\n",
       "[7] sfmWidth + playSound + sfmWidth:playSound + Observer                                                                                    : 3911.735   ±2.73%\n",
       "[8] sfmWidth + showHalo + sfmWidth:showHalo + playSound + Observer                                                                          : 2092.421   ±2.71%\n",
       "[9] sfmWidth + showHalo + playSound + sfmWidth:playSound + Observer                                                                         : 1996.828   ±2.28%\n",
       "[10] sfmWidth + showHalo + sfmWidth:showHalo + playSound + showHalo:playSound + Observer                                                    : 971.8353   ±6.57%\n",
       "[11] sfmWidth + showHalo + playSound + sfmWidth:playSound + showHalo:playSound + Observer                                                   : 877.4325   ±3.13%\n",
       "[12] sfmWidth + showHalo + sfmWidth:showHalo + playSound + sfmWidth:playSound + Observer                                                    : 246.2732   ±5.95%\n",
       "[13] sfmWidth + showHalo + sfmWidth:showHalo + playSound + sfmWidth:playSound + showHalo:playSound + Observer                               : 98.03005   ±2.07%\n",
       "[14] sfmWidth + showHalo + sfmWidth:showHalo + playSound + sfmWidth:playSound + showHalo:playSound + sfmWidth:showHalo:playSound + Observer : 13.96495   ±3.52%\n",
       "[15] showHalo + Observer                                                                                                                    : 0.4012831  ±1.34%\n",
       "[16] playSound + Observer                                                                                                                   : 0.1550022  ±0.87%\n",
       "[17] showHalo + playSound + Observer                                                                                                        : 0.06150672 ±1.22%\n",
       "[18] showHalo + playSound + showHalo:playSound + Observer                                                                                   : 0.0268222  ±4.99%\n",
       "\n",
       "Against denominator:\n",
       "  logit.P.switch ~ Observer \n",
       "---\n",
       "Bayes factor type: BFlinearModel, JZS\n"
      ]
     },
     "metadata": {},
     "output_type": "display_data"
    }
   ],
   "source": [
    "percepts.per.observer$sfmWidth <- as.factor(percepts.per.observer$sfmWidth)\n",
    "percepts.per.observer$showHalo <- as.factor(percepts.per.observer$showHalo)\n",
    "percepts.per.observer$Observer <- as.factor(percepts.per.observer$Observer)\n",
    "\n",
    "switches.aov.bf <-   anovaBF(logit.P.switch ~ sfmWidth + showHalo * playSound + Observer, \n",
    "    data= percepts.per.observer,\n",
    "    whichRandom= 'Observer')\n",
    "sort(switches.aov.bf, decreasing = TRUE)"
   ]
  },
  {
   "cell_type": "markdown",
   "metadata": {},
   "source": [
    "### Same analysis but using linear mixed models. \n",
    "__Table 1__ in the manuscript."
   ]
  },
  {
   "cell_type": "code",
   "execution_count": 8,
   "metadata": {},
   "outputs": [
    {
     "data": {
      "text/html": [
       "<table>\n",
       "<thead><tr><th></th><th scope=col>Df</th><th scope=col>AIC</th><th scope=col>BIC</th><th scope=col>logLik</th><th scope=col>deviance</th><th scope=col>Chisq</th><th scope=col>Chi Df</th><th scope=col>Pr(&gt;Chisq)</th></tr></thead>\n",
       "<tbody>\n",
       "\t<tr><th scope=row>lm.null</th><td>3           </td><td> 22.93332   </td><td> 32.82828   </td><td>-8.466661   </td><td> 16.93332   </td><td>         NA </td><td>NA          </td><td>          NA</td></tr>\n",
       "\t<tr><th scope=row>lm.width</th><td>4           </td><td>-56.03944   </td><td>-42.84617   </td><td>32.019718   </td><td>-64.03944   </td><td>80.97275866 </td><td> 1          </td><td>2.288507e-19</td></tr>\n",
       "\t<tr><th scope=row>lm.sound</th><td>5           </td><td>-55.65844   </td><td>-39.16686   </td><td>32.829221   </td><td>-65.65844   </td><td> 1.61900639 </td><td> 1          </td><td>2.032304e-01</td></tr>\n",
       "\t<tr><th scope=row>lm.halo</th><td>6           </td><td>-53.68159   </td><td>-33.89169   </td><td>32.840796   </td><td>-65.68159   </td><td> 0.02314908 </td><td> 1          </td><td>8.790700e-01</td></tr>\n",
       "\t<tr><th scope=row>lm.sound.width</th><td>7           </td><td>-52.44060   </td><td>-29.35238   </td><td>33.220301   </td><td>-66.44060   </td><td> 0.75900996 </td><td> 1          </td><td>3.836385e-01</td></tr>\n",
       "\t<tr><th scope=row>lm.halo.width</th><td>8           </td><td>-50.78582   </td><td>-24.39928   </td><td>33.392908   </td><td>-66.78582   </td><td> 0.34521566 </td><td> 1          </td><td>5.568340e-01</td></tr>\n",
       "\t<tr><th scope=row>lm.sound.halo</th><td>9           </td><td>-48.89892   </td><td>-19.21406   </td><td>33.449460   </td><td>-66.89892   </td><td> 0.11310307 </td><td> 1          </td><td>7.366386e-01</td></tr>\n",
       "</tbody>\n",
       "</table>\n"
      ],
      "text/latex": [
       "\\begin{tabular}{r|llllllll}\n",
       "  & Df & AIC & BIC & logLik & deviance & Chisq & Chi Df & Pr(>Chisq)\\\\\n",
       "\\hline\n",
       "\tlm.null & 3            &  22.93332    &  32.82828    & -8.466661    &  16.93332    &          NA  & NA           &           NA\\\\\n",
       "\tlm.width & 4            & -56.03944    & -42.84617    & 32.019718    & -64.03944    & 80.97275866  &  1           & 2.288507e-19\\\\\n",
       "\tlm.sound & 5            & -55.65844    & -39.16686    & 32.829221    & -65.65844    &  1.61900639  &  1           & 2.032304e-01\\\\\n",
       "\tlm.halo & 6            & -53.68159    & -33.89169    & 32.840796    & -65.68159    &  0.02314908  &  1           & 8.790700e-01\\\\\n",
       "\tlm.sound.width & 7            & -52.44060    & -29.35238    & 33.220301    & -66.44060    &  0.75900996  &  1           & 3.836385e-01\\\\\n",
       "\tlm.halo.width & 8            & -50.78582    & -24.39928    & 33.392908    & -66.78582    &  0.34521566  &  1           & 5.568340e-01\\\\\n",
       "\tlm.sound.halo & 9            & -48.89892    & -19.21406    & 33.449460    & -66.89892    &  0.11310307  &  1           & 7.366386e-01\\\\\n",
       "\\end{tabular}\n"
      ],
      "text/markdown": [
       "\n",
       "| <!--/--> | Df | AIC | BIC | logLik | deviance | Chisq | Chi Df | Pr(>Chisq) | \n",
       "|---|---|---|---|---|---|---|\n",
       "| lm.null | 3            |  22.93332    |  32.82828    | -8.466661    |  16.93332    |          NA  | NA           |           NA | \n",
       "| lm.width | 4            | -56.03944    | -42.84617    | 32.019718    | -64.03944    | 80.97275866  |  1           | 2.288507e-19 | \n",
       "| lm.sound | 5            | -55.65844    | -39.16686    | 32.829221    | -65.65844    |  1.61900639  |  1           | 2.032304e-01 | \n",
       "| lm.halo | 6            | -53.68159    | -33.89169    | 32.840796    | -65.68159    |  0.02314908  |  1           | 8.790700e-01 | \n",
       "| lm.sound.width | 7            | -52.44060    | -29.35238    | 33.220301    | -66.44060    |  0.75900996  |  1           | 3.836385e-01 | \n",
       "| lm.halo.width | 8            | -50.78582    | -24.39928    | 33.392908    | -66.78582    |  0.34521566  |  1           | 5.568340e-01 | \n",
       "| lm.sound.halo | 9            | -48.89892    | -19.21406    | 33.449460    | -66.89892    |  0.11310307  |  1           | 7.366386e-01 | \n",
       "\n",
       "\n"
      ],
      "text/plain": [
       "               Df AIC       BIC       logLik    deviance  Chisq       Chi Df\n",
       "lm.null        3   22.93332  32.82828 -8.466661  16.93332          NA NA    \n",
       "lm.width       4  -56.03944 -42.84617 32.019718 -64.03944 80.97275866  1    \n",
       "lm.sound       5  -55.65844 -39.16686 32.829221 -65.65844  1.61900639  1    \n",
       "lm.halo        6  -53.68159 -33.89169 32.840796 -65.68159  0.02314908  1    \n",
       "lm.sound.width 7  -52.44060 -29.35238 33.220301 -66.44060  0.75900996  1    \n",
       "lm.halo.width  8  -50.78582 -24.39928 33.392908 -66.78582  0.34521566  1    \n",
       "lm.sound.halo  9  -48.89892 -19.21406 33.449460 -66.89892  0.11310307  1    \n",
       "               Pr(>Chisq)  \n",
       "lm.null                  NA\n",
       "lm.width       2.288507e-19\n",
       "lm.sound       2.032304e-01\n",
       "lm.halo        8.790700e-01\n",
       "lm.sound.width 3.836385e-01\n",
       "lm.halo.width  5.568340e-01\n",
       "lm.sound.halo  7.366386e-01"
      ]
     },
     "metadata": {},
     "output_type": "display_data"
    }
   ],
   "source": [
    "percepts.per.observer$sfmWidth <- as.numeric(as.character(percepts.per.observer$sfmWidth))\n",
    "\n",
    "lm.null <- lme4::lmer(P.switch ~ 1 + (1|Observer),\n",
    "                      data=percepts.per.observer, REML=FALSE)\n",
    "lm.width <- update(lm.null, .~. + sfmWidth)\n",
    "lm.sound <- update(lm.width, .~. + playSound)\n",
    "lm.halo <- update(lm.sound, .~. + showHalo)\n",
    "\n",
    "lm.sound.width <- update(lm.halo, .~.+playSound:sfmWidth)\n",
    "lm.halo.width <- update(lm.sound.width, .~. + sfmWidth:showHalo)\n",
    "lm.sound.halo <- update(lm.halo.width, .~. + playSound:showHalo)\n",
    "\n",
    "stats::anova(lm.null, lm.width, lm.sound, lm.halo, lm.sound.width, lm.halo.width, lm.sound.halo)"
   ]
  },
  {
   "cell_type": "markdown",
   "metadata": {},
   "source": [
    "Computing effect size for the best model that uses only width as a fixed factor"
   ]
  },
  {
   "cell_type": "code",
   "execution_count": 9,
   "metadata": {},
   "outputs": [
    {
     "name": "stdout",
     "output_type": "stream",
     "text": [
      "Effect size for width-only model R2: 0.533\n"
     ]
    }
   ],
   "source": [
    "r2.corr.mer <- function(m) {\n",
    "  lmfit <-  lm(model.response(model.frame(m)) ~ fitted(m))\n",
    "  summary(lmfit)$r.squared\n",
    "}\n",
    "cat(sprintf('Effect size for width-only model R2: %.3f\\n', r2.corr.mer(lm.width)))"
   ]
  },
  {
   "cell_type": "markdown",
   "metadata": {},
   "source": [
    "## 3. Analysis of exogenous trigger effectiveness\n",
    "This information is reported in the __Methods / Displays__ section in the manuscript."
   ]
  },
  {
   "cell_type": "code",
   "execution_count": 13,
   "metadata": {},
   "outputs": [
    {
     "name": "stdout",
     "output_type": "stream",
     "text": [
      "Percentage of trials with an effective exogenous trigger: 0.82±0.17 [0.44..0.97] (mean±sd [min..max])\n"
     ]
    },
    {
     "data": {
      "text/html": [
       "<table>\n",
       "<thead><tr><th scope=col>Observer</th><th scope=col>triggered.fraction</th></tr></thead>\n",
       "<tbody>\n",
       "\t<tr><td>AZM1990w </td><td>0.7039474</td></tr>\n",
       "\t<tr><td>BPM1997w </td><td>0.4417910</td></tr>\n",
       "\t<tr><td>CEN2000w </td><td>0.6659091</td></tr>\n",
       "\t<tr><td>DGR1990w </td><td>0.8590909</td></tr>\n",
       "\t<tr><td>EGN1994m </td><td>0.9431818</td></tr>\n",
       "\t<tr><td>HHA1996w </td><td>0.9659091</td></tr>\n",
       "\t<tr><td>IKB1995w </td><td>0.9352273</td></tr>\n",
       "\t<tr><td>PHM1988w </td><td>0.9136364</td></tr>\n",
       "\t<tr><td>SKL1994w </td><td>0.9410714</td></tr>\n",
       "\t<tr><td>UKS1989m </td><td>0.8568182</td></tr>\n",
       "</tbody>\n",
       "</table>\n"
      ],
      "text/latex": [
       "\\begin{tabular}{r|ll}\n",
       " Observer & triggered.fraction\\\\\n",
       "\\hline\n",
       "\t AZM1990w  & 0.7039474\\\\\n",
       "\t BPM1997w  & 0.4417910\\\\\n",
       "\t CEN2000w  & 0.6659091\\\\\n",
       "\t DGR1990w  & 0.8590909\\\\\n",
       "\t EGN1994m  & 0.9431818\\\\\n",
       "\t HHA1996w  & 0.9659091\\\\\n",
       "\t IKB1995w  & 0.9352273\\\\\n",
       "\t PHM1988w  & 0.9136364\\\\\n",
       "\t SKL1994w  & 0.9410714\\\\\n",
       "\t UKS1989m  & 0.8568182\\\\\n",
       "\\end{tabular}\n"
      ],
      "text/markdown": [
       "\n",
       "Observer | triggered.fraction | \n",
       "|---|---|---|---|---|---|---|---|---|---|\n",
       "| AZM1990w  | 0.7039474 | \n",
       "| BPM1997w  | 0.4417910 | \n",
       "| CEN2000w  | 0.6659091 | \n",
       "| DGR1990w  | 0.8590909 | \n",
       "| EGN1994m  | 0.9431818 | \n",
       "| HHA1996w  | 0.9659091 | \n",
       "| IKB1995w  | 0.9352273 | \n",
       "| PHM1988w  | 0.9136364 | \n",
       "| SKL1994w  | 0.9410714 | \n",
       "| UKS1989m  | 0.8568182 | \n",
       "\n",
       "\n"
      ],
      "text/plain": [
       "   Observer triggered.fraction\n",
       "1  AZM1990w 0.7039474         \n",
       "2  BPM1997w 0.4417910         \n",
       "3  CEN2000w 0.6659091         \n",
       "4  DGR1990w 0.8590909         \n",
       "5  EGN1994m 0.9431818         \n",
       "6  HHA1996w 0.9659091         \n",
       "7  IKB1995w 0.9352273         \n",
       "8  PHM1988w 0.9136364         \n",
       "9  SKL1994w 0.9410714         \n",
       "10 UKS1989m 0.8568182         "
      ]
     },
     "metadata": {},
     "output_type": "display_data"
    }
   ],
   "source": [
    "trigger.effectiveness <- results %>%\n",
    "    dplyr::group_by(Observer, Block, Trial) %>%\n",
    "    dplyr::summarize(\n",
    "        has.trigger= sum(Event=='Reverse rotation')>0,\n",
    "        report.before.midpoint= sum((Event=='Percept')>0 & (after.midpoint==FALSE))>0\n",
    "    ) %>%\n",
    "    dplyr::filter(has.trigger==TRUE) %>%\n",
    "    dplyr::group_by(Observer) %>%\n",
    "    dplyr::summarize(\n",
    "        triggered.fraction= sum(report.before.midpoint)/n()\n",
    "    )\n",
    "\n",
    "cat(sprintf('Percentage of trials with an effective exogenous trigger: %.2f±%.2f [%.2f..%.2f] (mean±sd [min..max])\\n', \n",
    "        mean(trigger.effectiveness$triggered.fraction),\n",
    "        sd(trigger.effectiveness$triggered.fraction),\n",
    "        min(trigger.effectiveness$triggered.fraction),\n",
    "        max(trigger.effectiveness$triggered.fraction)))\n",
    "\n",
    "trigger.effectiveness"
   ]
  },
  {
   "cell_type": "markdown",
   "metadata": {},
   "source": [
    "## 4. Visibility of the the object as a function of the SFM object location\n",
    "First, loading the shape and retaining only the X-component (other coordinates are not affected by the translational motion along X-axis)"
   ]
  },
  {
   "cell_type": "code",
   "execution_count": 14,
   "metadata": {},
   "outputs": [],
   "source": [
    "SFM.shape <- read.csv2('SFM shape/bentband-dots[0500].csv', dec = '.')\n",
    "dot.x <- SFM.shape$X\n",
    "rm(SFM.shape)"
   ]
  },
  {
   "cell_type": "markdown",
   "metadata": {},
   "source": [
    "Next, computing locations along the trajectory using:\n",
    "* trajectory limits 0.2 and 0.8 of total screen width\n",
    "* 4 second trial duration\n",
    "* refresh rate was 60 FPS"
   ]
  },
  {
   "cell_type": "code",
   "execution_count": 4,
   "metadata": {},
   "outputs": [],
   "source": [
    "screen.width.pix <- 1920\n",
    "trajectory.limits <- screen.width.pix * c(0.2, 0.8)\n",
    "trial.duration <- 4\n",
    "screen.FPS <- 60\n",
    "ticks.count <- trial.duration*screen.FPS+1 # +1 account for the rightmost location, which is technically the first location for the next trial\n",
    "\n",
    "# linear intervals on 0..1 range\n",
    "trajectory.ticks <- (0:ticks.count)/ticks.count\n",
    "\n",
    "# true screen coordinates\n",
    "trajectory <- trajectory.limits[1]+trajectory.ticks * diff(trajectory.limits)"
   ]
  },
  {
   "cell_type": "markdown",
   "metadata": {},
   "source": [
    "Now, counting fraction of dots visible at a specific location along the trajectory. Width of the occluding stripe was equal to 150 pixels. This is the __Figure 1F__ in the manuscript."
   ]
  },
  {
   "cell_type": "code",
   "execution_count": 16,
   "metadata": {},
   "outputs": [
    {
     "data": {
      "image/png": "[encoded data removed]",
      "text/plain": [
       "plot without title"
      ]
     },
     "metadata": {},
     "output_type": "display_data"
    }
   ],
   "source": [
    "occluder.width <- 150\n",
    "occluder.limits <- c(-occluder.width/2, occluder.width/2) + screen.width.pix/2\n",
    "sfm.width <- c(150,175,200,250,300)\n",
    "\n",
    "visibility <- expand.grid(relative.location= trajectory.ticks*2-1, # this is coordinates in relative location as used elsewhere\n",
    "                          sfm.width= sfm.width)\n",
    "\n",
    "\n",
    "compute.dots.visibility <- function(rel.X, width.pix){\n",
    "    # computing dots location on the screen\n",
    "    dot.x.pixels <- dot.x * (width.pix/2) + (trajectory.limits[1]  + diff(trajectory.limits) * (rel.X+1)/2.0)\n",
    "    \n",
    "    # computing, how many of them were occluded\n",
    "    return(mean(dot.x.pixels< occluder.limits[1] | dot.x.pixels>occluder.limits[2]))\n",
    "}\n",
    "\n",
    "visibility <- visibility %>%\n",
    "    dplyr::rowwise() %>% \n",
    "    dplyr::mutate(proportion= compute.dots.visibility(relative.location, sfm.width))\n",
    "\n",
    "visibility$sfm.width <- as.factor(visibility$sfm.width/occluder.width)\n",
    "\n",
    "# plotting visibility\n",
    "visibility.plot <- ggplot(data= visibility, aes(x= relative.location, y= proportion, color= sfm.width, linetype= sfm.width))+\n",
    "    geom_line()\n",
    "print(visibility.plot)\n",
    "\n",
    "ggsave(file=\"Generated figures/Experiment 1 - object visibility.pdf\", plot= visibility.plot, \n",
    "       width= 16, height= 12, units = 'cm')"
   ]
  },
  {
   "cell_type": "markdown",
   "metadata": {},
   "source": [
    "Time in frames and milliseconds that SFM object was less than 25% visible"
   ]
  },
  {
   "cell_type": "code",
   "execution_count": 17,
   "metadata": {},
   "outputs": [
    {
     "data": {
      "text/html": [
       "<table>\n",
       "<thead><tr><th scope=col>sfm.width</th><th scope=col>frames</th><th scope=col>time</th></tr></thead>\n",
       "<tbody>\n",
       "\t<tr><td>1               </td><td>14              </td><td>233.33333       </td></tr>\n",
       "\t<tr><td>1.16666666666667</td><td>10              </td><td>166.66667       </td></tr>\n",
       "\t<tr><td>1.33333333333333</td><td> 5              </td><td> 83.33333       </td></tr>\n",
       "\t<tr><td>1.66666666666667</td><td> 0              </td><td>  0.00000       </td></tr>\n",
       "\t<tr><td>2               </td><td> 0              </td><td>  0.00000       </td></tr>\n",
       "</tbody>\n",
       "</table>\n"
      ],
      "text/latex": [
       "\\begin{tabular}{r|lll}\n",
       " sfm.width & frames & time\\\\\n",
       "\\hline\n",
       "\t 1                & 14               & 233.33333       \\\\\n",
       "\t 1.16666666666667 & 10               & 166.66667       \\\\\n",
       "\t 1.33333333333333 &  5               &  83.33333       \\\\\n",
       "\t 1.66666666666667 &  0               &   0.00000       \\\\\n",
       "\t 2                &  0               &   0.00000       \\\\\n",
       "\\end{tabular}\n"
      ],
      "text/markdown": [
       "\n",
       "sfm.width | frames | time | \n",
       "|---|---|---|---|---|\n",
       "| 1                | 14               | 233.33333        | \n",
       "| 1.16666666666667 | 10               | 166.66667        | \n",
       "| 1.33333333333333 |  5               |  83.33333        | \n",
       "| 1.66666666666667 |  0               |   0.00000        | \n",
       "| 2                |  0               |   0.00000        | \n",
       "\n",
       "\n"
      ],
      "text/plain": [
       "  sfm.width        frames time     \n",
       "1 1                14     233.33333\n",
       "2 1.16666666666667 10     166.66667\n",
       "3 1.33333333333333  5      83.33333\n",
       "4 1.66666666666667  0       0.00000\n",
       "5 2                 0       0.00000"
      ]
     },
     "metadata": {},
     "output_type": "display_data"
    }
   ],
   "source": [
    "invisibility.time <- visibility %>%\n",
    "    dplyr::ungroup() %>%\n",
    "    dplyr::group_by(sfm.width) %>%\n",
    "    dplyr::summarise(frames= sum(proportion<0.25), \n",
    "                     time= frames * (1000/screen.FPS))\n",
    "\n",
    "invisibility.time"
   ]
  }
 ],
 "metadata": {
  "kernelspec": {
   "display_name": "R",
   "language": "R",
   "name": "ir"
  },
  "language_info": {
   "codemirror_mode": "r",
   "file_extension": ".r",
   "mimetype": "text/x-r-source",
   "name": "R",
   "pygments_lexer": "r",
   "version": "3.4.2"
  }
 },
 "nbformat": 4,
 "nbformat_minor": 1
}
