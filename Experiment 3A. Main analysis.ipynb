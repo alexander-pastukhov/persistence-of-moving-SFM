{
 "cells": [
  {
   "cell_type": "markdown",
   "metadata": {},
   "source": [
    "# Experiment 3A. Analysis of how blinks and sound influence perceptual stability of illusory rotation"
   ]
  },
  {
   "cell_type": "code",
   "execution_count": 3,
   "metadata": {},
   "outputs": [],
   "source": [
    "rm(list=ls())"
   ]
  },
  {
   "cell_type": "code",
   "execution_count": 22,
   "metadata": {},
   "outputs": [],
   "source": [
    "library(ggplot2)\n",
    "library(dplyr)\n",
    "library(BayesFactor)\n",
    "library(lme4)\n",
    "library(IRdisplay)"
   ]
  },
  {
   "cell_type": "markdown",
   "metadata": {},
   "source": [
    "## 1. Importing events from csv-file, converted from original EDFs"
   ]
  },
  {
   "cell_type": "code",
   "execution_count": 5,
   "metadata": {},
   "outputs": [],
   "source": [
    "all.edf.files <- list.files(path= 'Experiment 3', pattern= 'edf[.]csv$')\n",
    "events <- data.frame() # complete copy\n",
    "all.events <- data.frame() # no duplicate percept events (i.e., same percept reported before and after the blink)\n",
    "for(current.filename in all.edf.files){\n",
    "    # figuring out the experimental condition: response to the sound was either to blink or to ignore sound\n",
    "    condition <- ifelse(grepl('blink', current.filename), 'blink', 'ignore sound')\n",
    "    re.ID <- regexpr('[[:alpha:]]{3}[[:digit:]]{2,4}[[:alpha:]]', current.filename)\n",
    "    ID<- regmatches(current.filename, re.ID)\n",
    "        \n",
    "    # loading current observer\n",
    "    current.observer <- read.csv2(normalizePath(paste(\"Experiment 3\", current.filename, sep='/')))\n",
    "    \n",
    "    # adding ID and condition\n",
    "    current.observer$Observer <- ID\n",
    "    current.observer$Condition <- condition\n",
    "    \n",
    "    # storing ALL events in the data frame\n",
    "    all.events <- rbind(all.events, current.observer)\n",
    "    \n",
    "    # removing duplicate percepts, i.e. a participant reporting same percept again after the blink\n",
    "    i.duplicates <- c()\n",
    "    for(current.block in unique(current.observer$Block)){\n",
    "        current.percept <- 100 # percept code that is definitely different from anything being reported\n",
    "        for(i.row in which(current.observer$Block==current.block)){\n",
    "            if (current.observer$Event[i.row]=='percept'){\n",
    "                if (current.percept == current.observer$Value[i.row]){\n",
    "                    i.duplicates <- c(i.duplicates, i.row)\n",
    "                }\n",
    "                current.percept <- current.observer$Value[i.row]\n",
    "            }\n",
    "        }\n",
    "    }\n",
    "    if (length(i.duplicates)>0){\n",
    "        current.observer <- current.observer[-i.duplicates, ]\n",
    "    }\n",
    "    \n",
    "    # storing the cleaned-up version in the main table\n",
    "    events <- rbind(events, current.observer)\n",
    "}\n"
   ]
  },
  {
   "cell_type": "markdown",
   "metadata": {},
   "source": [
    "## 2. Computing whether observers report a switch shortly after the event.\n",
    "Given the variable nature of events and their possible complete absence, here are the rules:\n",
    "* Baseline (no sound or blink during the entire trial): switch reported between 0.1 and 0.4 relative location, as for Experiments 1 and 2\n",
    "* Sound (but no blink): switch reported between 0.2 and 0.8 seconds after the sound onset\n",
    "* Prompted blink: switch reported between 0.2 and 0.8 second after eyes were opened\n",
    "* Spontaneous blink: switch reported between 0.2 and 0.8 second after eyes were opened (first blink only, if multiple are present)\n",
    "\n",
    "#### First, marking out trials as `Baseline`, `Sound`, `Prompted blink`, and `Spontaneous blink`"
   ]
  },
  {
   "cell_type": "code",
   "execution_count": 6,
   "metadata": {},
   "outputs": [],
   "source": [
    "classify.trial <- function(event.time, event.type, event.value, block.condition){\n",
    "    had.sound <- sum(event.type=='sound')\n",
    "    had.blink <- sum(event.type=='blink')\n",
    "    \n",
    "    if (had.blink>1){\n",
    "        return('Multiple blinks')\n",
    "    }\n",
    "    \n",
    "    if (!had.sound & !had.blink){\n",
    "        # neither sound nor blink were present\n",
    "        return('Baseline')\n",
    "    }\n",
    "    else{\n",
    "        if (had.sound){\n",
    "            if (had.blink){\n",
    "                if (block.condition=='blink'){\n",
    "                    return('Prompted blink')                        \n",
    "                }\n",
    "                else {\n",
    "                    return('Spontaneous blink')\n",
    "                }\n",
    "            }\n",
    "            else{\n",
    "                return('Sound')\n",
    "            }\n",
    "        }\n",
    "        else{\n",
    "            return('Spontaneous blink')\n",
    "        }\n",
    "    }\n",
    "}\n",
    "trial <- events %>%\n",
    "    dplyr::group_by(Observer, Condition, Block, Trial) %>%\n",
    "    dplyr::summarize(trial.type= classify.trial(Time, Event, Value, Condition[1]))\n",
    "\n",
    "# merging the info back into the events table\n",
    "trial.events <- merge(events, trial, by= c('Observer', 'Condition', 'Block', 'Trial')) %>% \n",
    "    dplyr::arrange(Observer, Condition, Block, Trial)"
   ]
  },
  {
   "cell_type": "markdown",
   "metadata": {},
   "source": [
    "#### Count trials with multiple blinks that we will exclude from the analysis"
   ]
  },
  {
   "cell_type": "code",
   "execution_count": 7,
   "metadata": {},
   "outputs": [
    {
     "data": {
      "text/html": [
       "<table>\n",
       "<thead><tr><th scope=col>Condition</th><th scope=col>mean.bad</th><th scope=col>sd.bad</th></tr></thead>\n",
       "<tbody>\n",
       "\t<tr><td>blink       </td><td>6.833333    </td><td> 7.25000    </td></tr>\n",
       "\t<tr><td>ignore sound</td><td>5.333333    </td><td>11.40175    </td></tr>\n",
       "</tbody>\n",
       "</table>\n"
      ],
      "text/latex": [
       "\\begin{tabular}{r|lll}\n",
       " Condition & mean.bad & sd.bad\\\\\n",
       "\\hline\n",
       "\t blink        & 6.833333     &  7.25000    \\\\\n",
       "\t ignore sound & 5.333333     & 11.40175    \\\\\n",
       "\\end{tabular}\n"
      ],
      "text/markdown": [
       "\n",
       "Condition | mean.bad | sd.bad | \n",
       "|---|---|\n",
       "| blink        | 6.833333     |  7.25000     | \n",
       "| ignore sound | 5.333333     | 11.40175     | \n",
       "\n",
       "\n"
      ],
      "text/plain": [
       "  Condition    mean.bad sd.bad  \n",
       "1 blink        6.833333  7.25000\n",
       "2 ignore sound 5.333333 11.40175"
      ]
     },
     "metadata": {},
     "output_type": "display_data"
    }
   ],
   "source": [
    "bad.fraction <- trial %>%\n",
    "    dplyr::group_by(Observer, Condition) %>%\n",
    "    dplyr::summarize(bad= 100*sum(trial.type=='Multiple blinks')/n())\n",
    "\n",
    "condition.fraction <- bad.fraction %>%\n",
    "    dplyr::group_by(Condition) %>%\n",
    "    dplyr::summarize(mean.bad= mean(bad),\n",
    "                     sd.bad= sd(bad))\n",
    "\n",
    "condition.fraction"
   ]
  },
  {
   "cell_type": "markdown",
   "metadata": {},
   "source": [
    "## 3. Probabiltiy of the switch for various trial types\n",
    "__Figure 4A__ in the manuscript."
   ]
  },
  {
   "cell_type": "code",
   "execution_count": 8,
   "metadata": {},
   "outputs": [
    {
     "data": {
      "text/html": [
       "<table>\n",
       "<thead><tr><th></th><th scope=col>Df</th><th scope=col>AIC</th><th scope=col>BIC</th><th scope=col>logLik</th><th scope=col>deviance</th><th scope=col>Chisq</th><th scope=col>Chi Df</th><th scope=col>Pr(&gt;Chisq)</th></tr></thead>\n",
       "<tbody>\n",
       "\t<tr><th scope=row>lm.null</th><td>3           </td><td> -5.930887  </td><td> -1.180331  </td><td> 5.965444   </td><td>-11.93089   </td><td>      NA    </td><td>NA          </td><td>          NA</td></tr>\n",
       "\t<tr><th scope=row>lm.trial.type</th><td>6           </td><td>-48.523860  </td><td>-39.022746  </td><td>30.261930   </td><td>-60.52386   </td><td>48.59297    </td><td> 3          </td><td>1.592478e-10</td></tr>\n",
       "</tbody>\n",
       "</table>\n"
      ],
      "text/latex": [
       "\\begin{tabular}{r|llllllll}\n",
       "  & Df & AIC & BIC & logLik & deviance & Chisq & Chi Df & Pr(>Chisq)\\\\\n",
       "\\hline\n",
       "\tlm.null & 3            &  -5.930887   &  -1.180331   &  5.965444    & -11.93089    &       NA     & NA           &           NA\\\\\n",
       "\tlm.trial.type & 6            & -48.523860   & -39.022746   & 30.261930    & -60.52386    & 48.59297     &  3           & 1.592478e-10\\\\\n",
       "\\end{tabular}\n"
      ],
      "text/markdown": [
       "\n",
       "| <!--/--> | Df | AIC | BIC | logLik | deviance | Chisq | Chi Df | Pr(>Chisq) | \n",
       "|---|---|\n",
       "| lm.null | 3            |  -5.930887   |  -1.180331   |  5.965444    | -11.93089    |       NA     | NA           |           NA | \n",
       "| lm.trial.type | 6            | -48.523860   | -39.022746   | 30.261930    | -60.52386    | 48.59297     |  3           | 1.592478e-10 | \n",
       "\n",
       "\n"
      ],
      "text/plain": [
       "              Df AIC        BIC        logLik    deviance  Chisq    Chi Df\n",
       "lm.null       3   -5.930887  -1.180331  5.965444 -11.93089       NA NA    \n",
       "lm.trial.type 6  -48.523860 -39.022746 30.261930 -60.52386 48.59297  3    \n",
       "              Pr(>Chisq)  \n",
       "lm.null                 NA\n",
       "lm.trial.type 1.592478e-10"
      ]
     },
     "metadata": {},
     "output_type": "display_data"
    },
    {
     "data": {
      "text/plain": [
       "Linear mixed model fit by REML t-tests use Satterthwaite approximations to\n",
       "  degrees of freedom [lmerMod]\n",
       "Formula: P.switch ~ trial.type + (1 | Observer)\n",
       "   Data: percepts.per.trial.type\n",
       "\n",
       "REML criterion at convergence: -41.2\n",
       "\n",
       "Scaled residuals: \n",
       "    Min      1Q  Median      3Q     Max \n",
       "-3.5031 -0.2405 -0.1161  0.3509  2.4319 \n",
       "\n",
       "Random effects:\n",
       " Groups   Name        Variance Std.Dev.\n",
       " Observer (Intercept) 0.000513 0.02265 \n",
       " Residual             0.011779 0.10853 \n",
       "Number of obs: 36, groups:  Observer, 9\n",
       "\n",
       "Fixed effects:\n",
       "                            Estimate Std. Error       df t value Pr(>|t|)    \n",
       "(Intercept)                  0.01336    0.03696 31.83000   0.361    0.720    \n",
       "trial.typePrompted blink     0.42667    0.05116 24.00000   8.340  1.5e-08 ***\n",
       "trial.typeSound              0.04570    0.05116 24.00000   0.893    0.381    \n",
       "trial.typeSpontaneous blink  0.01758    0.05116 24.00000   0.344    0.734    \n",
       "---\n",
       "Signif. codes:  0 '***' 0.001 '**' 0.01 '*' 0.05 '.' 0.1 ' ' 1\n",
       "\n",
       "Correlation of Fixed Effects:\n",
       "            (Intr) trl.Pb trl.tS\n",
       "trl.typPrmb -0.692              \n",
       "tril.typSnd -0.692  0.500       \n",
       "trl.typSpnb -0.692  0.500  0.500"
      ]
     },
     "metadata": {},
     "output_type": "display_data"
    },
    {
     "data": {
      "text/html": [
       "<table>\n",
       "<thead><tr><th scope=col>Estimate</th><th scope=col>Std.Error</th><th scope=col>df</th><th scope=col>t.value</th><th scope=col>p.value</th><th scope=col>R.sqr</th></tr></thead>\n",
       "<tbody>\n",
       "\t<tr><td>0.01335757  </td><td>0.03695600  </td><td>31.83369    </td><td>0.3614453   </td><td>7.201546e-01</td><td>0.06393075  </td></tr>\n",
       "\t<tr><td>0.42666720  </td><td>0.05116135  </td><td>24.00003    </td><td>8.3396395   </td><td>1.500082e-08</td><td>0.86223622  </td></tr>\n",
       "\t<tr><td>0.04569887  </td><td>0.05116135  </td><td>24.00003    </td><td>0.8932303   </td><td>3.806035e-01</td><td>0.17937258  </td></tr>\n",
       "\t<tr><td>0.01758379  </td><td>0.05116135  </td><td>24.00003    </td><td>0.3436928   </td><td>7.340702e-01</td><td>0.06998394  </td></tr>\n",
       "</tbody>\n",
       "</table>\n"
      ],
      "text/latex": [
       "\\begin{tabular}{r|llllll}\n",
       " Estimate & Std.Error & df & t.value & p.value & R.sqr\\\\\n",
       "\\hline\n",
       "\t 0.01335757   & 0.03695600   & 31.83369     & 0.3614453    & 7.201546e-01 & 0.06393075  \\\\\n",
       "\t 0.42666720   & 0.05116135   & 24.00003     & 8.3396395    & 1.500082e-08 & 0.86223622  \\\\\n",
       "\t 0.04569887   & 0.05116135   & 24.00003     & 0.8932303    & 3.806035e-01 & 0.17937258  \\\\\n",
       "\t 0.01758379   & 0.05116135   & 24.00003     & 0.3436928    & 7.340702e-01 & 0.06998394  \\\\\n",
       "\\end{tabular}\n"
      ],
      "text/markdown": [
       "\n",
       "Estimate | Std.Error | df | t.value | p.value | R.sqr | \n",
       "|---|---|---|---|\n",
       "| 0.01335757   | 0.03695600   | 31.83369     | 0.3614453    | 7.201546e-01 | 0.06393075   | \n",
       "| 0.42666720   | 0.05116135   | 24.00003     | 8.3396395    | 1.500082e-08 | 0.86223622   | \n",
       "| 0.04569887   | 0.05116135   | 24.00003     | 0.8932303    | 3.806035e-01 | 0.17937258   | \n",
       "| 0.01758379   | 0.05116135   | 24.00003     | 0.3436928    | 7.340702e-01 | 0.06998394   | \n",
       "\n",
       "\n"
      ],
      "text/plain": [
       "  Estimate   Std.Error  df       t.value   p.value      R.sqr     \n",
       "1 0.01335757 0.03695600 31.83369 0.3614453 7.201546e-01 0.06393075\n",
       "2 0.42666720 0.05116135 24.00003 8.3396395 1.500082e-08 0.86223622\n",
       "3 0.04569887 0.05116135 24.00003 0.8932303 3.806035e-01 0.17937258\n",
       "4 0.01758379 0.05116135 24.00003 0.3436928 7.340702e-01 0.06998394"
      ]
     },
     "metadata": {},
     "output_type": "display_data"
    },
    {
     "data": {
      "image/png": "[encoded data removed]",
      "text/plain": [
       "plot without title"
      ]
     },
     "metadata": {},
     "output_type": "display_data"
    }
   ],
   "source": [
    "## Next, computing critical time window for the switch\n",
    "compute.critical.time <- function(event.time, event.type, event.value, trial.type){\n",
    "    if (trial.type %in% c('Multiple Prompted blinks', 'Multiple Spontaneous blinks')){\n",
    "        iBlink <- which(event.type=='blink')\n",
    "        iBlink <- iBlink[length(iBlink)]\n",
    "        return (event.time[iBlink] +  as.numeric(as.character(event.value[iBlink])) + 200) # first blink onset + first blink duration + 200 ms\n",
    "    }\n",
    "    else if (trial.type == 'Prompted blink'){\n",
    "        iBlink <- which(event.type=='blink')\n",
    "        iBlink <- iBlink[length(iBlink)]\n",
    "        return (event.time[iBlink] +  as.numeric(as.character(event.value[iBlink])) + 200) # blink onset + blink duration + 200 ms\n",
    "    }\n",
    "    else if (trial.type == 'Spontaneous blink'){\n",
    "        iBlink <- which(event.type=='blink')\n",
    "        iBlink <- iBlink[length(iBlink)]\n",
    "#         return (event.time[iBlink] - 600)\n",
    "        return (event.time[iBlink] +  as.numeric(as.character(event.value[iBlink])) + 200) # blink onset + blink duration + 200 ms\n",
    "    }\n",
    "    else if (trial.type == 'Sound') {\n",
    "        iSound <- which(event.type=='sound')\n",
    "        return(event.time[iSound] + 200) # sound onset + 200\n",
    "    }\n",
    "    else {\n",
    "        # Baseline\n",
    "        return(event.time[1] + 2200) # trial start + half-trial-duration (2000) + 200 ms\n",
    "    }\n",
    "}\n",
    "\n",
    "trial.critical.time <- trial.events %>%\n",
    "    dplyr::group_by(Observer, Condition, Block, Trial) %>%\n",
    "    dplyr::mutate(start.time= compute.critical.time(Time, Event, Value, trial.type[1]),\n",
    "                  end.time= start.time + 600)\n",
    "    \n",
    "\n",
    "# # dropping multple blink trials\n",
    "trial.critical.time <- trial.critical.time[trial.critical.time$trial.type != 'Multiple blinks', ]\n",
    "\n",
    "## Finally, counting number of percepts reported during the critical time window per trial\n",
    "\n",
    "count.percepts <- function(event.time, event.type, start.time, end.time){\n",
    "    if (is.finite(start.time)){\n",
    "        return(sum(event.type=='percept' & event.time>= start.time & event.time<= end.time))\n",
    "    }\n",
    "    else {\n",
    "        return(NA)\n",
    "    }\n",
    "}\n",
    "percepts.per.trial <- trial.critical.time %>%\n",
    "    dplyr::group_by(Observer, Condition, Block, Trial) %>%\n",
    "    dplyr::mutate(percepts.count= count.percepts(Time, Event, start.time[1], end.time[1])) %>%\n",
    "    dplyr::summarize(percepts.count= percepts.count[1], trial.type= trial.type[1])\n",
    "\n",
    "## Computing number of percepts reported after the events\n",
    "\n",
    "percepts.per.trial.type <- percepts.per.trial %>%\n",
    "    dplyr::group_by(Observer, trial.type) %>%\n",
    "    dplyr::summarise(P.switch= mean(percepts.count>0))\n",
    "\n",
    "trial.type.plot <- ggplot(data= percepts.per.trial.type, aes(x= trial.type, y= P.switch, color= Observer, group= trial.type)) + \n",
    "    geom_boxplot(outlier.shape = NA) + \n",
    "    geom_jitter(width= 0.2)\n",
    "#     theme(axis.text.x = element_text(angle = 90, hjust = 1))\n",
    "print(trial.type.plot)\n",
    "ggsave(file=\"Generated figures/Experiment 3 - group averages.pdf\", plot= trial.type.plot, width= 12, height= 8, units = 'cm')\n",
    "\n",
    "# computing significance of the trial type\n",
    "lm.null <- lme4::lmer(P.switch ~ 1 + (1|Observer), data= percepts.per.trial.type, REML = FALSE)\n",
    "lm.trial.type <- update(lm.null, .~. + trial.type)\n",
    "anova(lm.null, lm.trial.type)\n",
    "\n",
    "# more specifically, comparing everything to the Baseline\n",
    "compare.to.baseline <- lmerTest::lmer(P.switch ~ trial.type+(1|Observer), percepts.per.trial.type)\n",
    "summary(compare.to.baseline)\n",
    "\n",
    "rcontrast<-function(t, df) {\n",
    "    return (sqrt(t^2/(t^2 + df)))\n",
    "}\n",
    "\n",
    "coefficients.only <- data.frame(summary(compare.to.baseline)$coefficients)\n",
    "colnames(coefficients.only) <- c('Estimate', 'Std.Error', 'df', 't.value', 'p.value')\n",
    "dplyr::mutate(coefficients.only, R.sqr= rcontrast(t.value, df))\n"
   ]
  },
  {
   "cell_type": "markdown",
   "metadata": {},
   "source": [
    "## 4. Same as above, but we are counting the perceptual reports BEFORE the spontaneous blink (not after)\n",
    "\n",
    "The _Spontaneous blinks_ condition is __Figure 1B__ in the manuscript."
   ]
  },
  {
   "cell_type": "code",
   "execution_count": 9,
   "metadata": {},
   "outputs": [
    {
     "data": {
      "text/html": [
       "<table>\n",
       "<thead><tr><th></th><th scope=col>Df</th><th scope=col>AIC</th><th scope=col>BIC</th><th scope=col>logLik</th><th scope=col>deviance</th><th scope=col>Chisq</th><th scope=col>Chi Df</th><th scope=col>Pr(&gt;Chisq)</th></tr></thead>\n",
       "<tbody>\n",
       "\t<tr><th scope=row>lm.null</th><td>3          </td><td>-68.62728  </td><td>-63.87672  </td><td>37.31364   </td><td>-74.62728  </td><td>      NA   </td><td>NA         </td><td>         NA</td></tr>\n",
       "\t<tr><th scope=row>lm.trial.type</th><td>6          </td><td>-76.80719  </td><td>-67.30608  </td><td>44.40360   </td><td>-88.80719  </td><td>14.17991   </td><td> 3         </td><td>0.002670212</td></tr>\n",
       "</tbody>\n",
       "</table>\n"
      ],
      "text/latex": [
       "\\begin{tabular}{r|llllllll}\n",
       "  & Df & AIC & BIC & logLik & deviance & Chisq & Chi Df & Pr(>Chisq)\\\\\n",
       "\\hline\n",
       "\tlm.null & 3           & -68.62728   & -63.87672   & 37.31364    & -74.62728   &       NA    & NA          &          NA\\\\\n",
       "\tlm.trial.type & 6           & -76.80719   & -67.30608   & 44.40360    & -88.80719   & 14.17991    &  3          & 0.002670212\\\\\n",
       "\\end{tabular}\n"
      ],
      "text/markdown": [
       "\n",
       "| <!--/--> | Df | AIC | BIC | logLik | deviance | Chisq | Chi Df | Pr(>Chisq) | \n",
       "|---|---|\n",
       "| lm.null | 3           | -68.62728   | -63.87672   | 37.31364    | -74.62728   |       NA    | NA          |          NA | \n",
       "| lm.trial.type | 6           | -76.80719   | -67.30608   | 44.40360    | -88.80719   | 14.17991    |  3          | 0.002670212 | \n",
       "\n",
       "\n"
      ],
      "text/plain": [
       "              Df AIC       BIC       logLik   deviance  Chisq    Chi Df\n",
       "lm.null       3  -68.62728 -63.87672 37.31364 -74.62728       NA NA    \n",
       "lm.trial.type 6  -76.80719 -67.30608 44.40360 -88.80719 14.17991  3    \n",
       "              Pr(>Chisq) \n",
       "lm.null                NA\n",
       "lm.trial.type 0.002670212"
      ]
     },
     "metadata": {},
     "output_type": "display_data"
    },
    {
     "data": {
      "text/plain": [
       "Linear mixed model fit by REML t-tests use Satterthwaite approximations to\n",
       "  degrees of freedom [lmerMod]\n",
       "Formula: P.switch ~ trial.type + (1 | Observer)\n",
       "   Data: percepts.per.trial.type\n",
       "\n",
       "REML criterion at convergence: -66.4\n",
       "\n",
       "Scaled residuals: \n",
       "    Min      1Q  Median      3Q     Max \n",
       "-1.1104 -0.6144 -0.1795  0.3053  3.1501 \n",
       "\n",
       "Random effects:\n",
       " Groups   Name        Variance Std.Dev.\n",
       " Observer (Intercept) 0.001437 0.03790 \n",
       " Residual             0.004558 0.06751 \n",
       "Number of obs: 36, groups:  Observer, 9\n",
       "\n",
       "Fixed effects:\n",
       "                            Estimate Std. Error       df t value Pr(>|t|)   \n",
       "(Intercept)                  0.01336    0.02581 27.29600   0.518  0.60893   \n",
       "trial.typePrompted blink     0.09672    0.03183 24.00000   3.039  0.00566 **\n",
       "trial.typeSound              0.04570    0.03183 24.00000   1.436  0.16393   \n",
       "trial.typeSpontaneous blink  0.11784    0.03183 24.00000   3.703  0.00111 **\n",
       "---\n",
       "Signif. codes:  0 '***' 0.001 '**' 0.01 '*' 0.05 '.' 0.1 ' ' 1\n",
       "\n",
       "Correlation of Fixed Effects:\n",
       "            (Intr) trl.Pb trl.tS\n",
       "trl.typPrmb -0.617              \n",
       "tril.typSnd -0.617  0.500       \n",
       "trl.typSpnb -0.617  0.500  0.500"
      ]
     },
     "metadata": {},
     "output_type": "display_data"
    },
    {
     "data": {
      "text/html": [
       "<table>\n",
       "<thead><tr><th scope=col>Estimate</th><th scope=col>Std.Error</th><th scope=col>df</th><th scope=col>t.value</th><th scope=col>p.value</th><th scope=col>R.sqr</th></tr></thead>\n",
       "<tbody>\n",
       "\t<tr><td>0.01335757 </td><td>0.02580826 </td><td>27.29635   </td><td>0.5175696  </td><td>0.608927990</td><td>0.09858159 </td></tr>\n",
       "\t<tr><td>0.09671703 </td><td>0.03182551 </td><td>24.00009   </td><td>3.0389782  </td><td>0.005655771</td><td>0.52714080 </td></tr>\n",
       "\t<tr><td>0.04569887 </td><td>0.03182551 </td><td>24.00009   </td><td>1.4359193  </td><td>0.163932172</td><td>0.28127205 </td></tr>\n",
       "\t<tr><td>0.11784256 </td><td>0.03182551 </td><td>24.00009   </td><td>3.7027704  </td><td>0.001112566</td><td>0.60296914 </td></tr>\n",
       "</tbody>\n",
       "</table>\n"
      ],
      "text/latex": [
       "\\begin{tabular}{r|llllll}\n",
       " Estimate & Std.Error & df & t.value & p.value & R.sqr\\\\\n",
       "\\hline\n",
       "\t 0.01335757  & 0.02580826  & 27.29635    & 0.5175696   & 0.608927990 & 0.09858159 \\\\\n",
       "\t 0.09671703  & 0.03182551  & 24.00009    & 3.0389782   & 0.005655771 & 0.52714080 \\\\\n",
       "\t 0.04569887  & 0.03182551  & 24.00009    & 1.4359193   & 0.163932172 & 0.28127205 \\\\\n",
       "\t 0.11784256  & 0.03182551  & 24.00009    & 3.7027704   & 0.001112566 & 0.60296914 \\\\\n",
       "\\end{tabular}\n"
      ],
      "text/markdown": [
       "\n",
       "Estimate | Std.Error | df | t.value | p.value | R.sqr | \n",
       "|---|---|---|---|\n",
       "| 0.01335757  | 0.02580826  | 27.29635    | 0.5175696   | 0.608927990 | 0.09858159  | \n",
       "| 0.09671703  | 0.03182551  | 24.00009    | 3.0389782   | 0.005655771 | 0.52714080  | \n",
       "| 0.04569887  | 0.03182551  | 24.00009    | 1.4359193   | 0.163932172 | 0.28127205  | \n",
       "| 0.11784256  | 0.03182551  | 24.00009    | 3.7027704   | 0.001112566 | 0.60296914  | \n",
       "\n",
       "\n"
      ],
      "text/plain": [
       "  Estimate   Std.Error  df       t.value   p.value     R.sqr     \n",
       "1 0.01335757 0.02580826 27.29635 0.5175696 0.608927990 0.09858159\n",
       "2 0.09671703 0.03182551 24.00009 3.0389782 0.005655771 0.52714080\n",
       "3 0.04569887 0.03182551 24.00009 1.4359193 0.163932172 0.28127205\n",
       "4 0.11784256 0.03182551 24.00009 3.7027704 0.001112566 0.60296914"
      ]
     },
     "metadata": {},
     "output_type": "display_data"
    },
    {
     "data": {
      "image/png": "[encoded data removed]",
      "text/plain": [
       "plot without title"
      ]
     },
     "metadata": {},
     "output_type": "display_data"
    }
   ],
   "source": [
    "## Next, computing critical time window for the switch\n",
    "compute.critical.time <- function(event.time, event.type, event.value, trial.type){\n",
    "    if (trial.type %in% c('Multiple Prompted blinks', 'Multiple Spontaneous blinks')){\n",
    "        iBlink <- which(event.type=='blink')\n",
    "        iBlink <- iBlink[length(iBlink)]\n",
    "        return (event.time[iBlink] +  as.numeric(as.character(event.value[iBlink])) + 200) # first blink onset + first blink duration + 200 ms\n",
    "    }\n",
    "    else if (trial.type == 'Prompted blink'){\n",
    "        iBlink <- which(event.type=='blink')\n",
    "        iBlink <- iBlink[length(iBlink)]\n",
    "#         return (event.time[iBlink] +  as.numeric(as.character(event.value[iBlink])) + 200) # blink onset + blink duration + 200 ms\n",
    "        \n",
    "        # ----------------------------------------------------------------------\n",
    "        return (event.time[iBlink] - 600) # THIS IS THE PART WHICH IS DIFFERENT\n",
    "        # ----------------------------------------------------------------------        \n",
    "    }\n",
    "    else if (trial.type == 'Spontaneous blink'){\n",
    "        iBlink <- which(event.type=='blink')\n",
    "        iBlink <- iBlink[length(iBlink)]\n",
    "        \n",
    "        # ----------------------------------------------------------------------\n",
    "        return (event.time[iBlink] - 600) # THIS IS THE PART WHICH IS DIFFERENT\n",
    "        # ----------------------------------------------------------------------\n",
    "        \n",
    "    }\n",
    "    else if (trial.type == 'Sound') {\n",
    "        iSound <- which(event.type=='sound')\n",
    "        return(event.time[iSound] + 200) # sound onset + 200\n",
    "    }\n",
    "    else {\n",
    "        # Baseline\n",
    "        return(event.time[1] + 2200) # trial start + half-trial-duration (2000) + 200 ms\n",
    "    }\n",
    "}\n",
    "\n",
    "trial.critical.time <- trial.events %>%\n",
    "    dplyr::group_by(Observer, Condition, Block, Trial) %>%\n",
    "    dplyr::mutate(start.time= compute.critical.time(Time, Event, Value, trial.type[1]),\n",
    "                  end.time= start.time + 600)\n",
    "    \n",
    "\n",
    "# # dropping multple blink trials\n",
    "trial.critical.time <- trial.critical.time[trial.critical.time$trial.type != 'Multiple blinks', ]\n",
    "\n",
    "## Finally, counting number of percepts reported during the critical time window per trial\n",
    "\n",
    "count.percepts <- function(event.time, event.type, start.time, end.time){\n",
    "    if (is.finite(start.time)){\n",
    "        return(sum(event.type=='percept' & event.time>= start.time & event.time<= end.time))\n",
    "    }\n",
    "    else {\n",
    "        return(NA)\n",
    "    }\n",
    "}\n",
    "percepts.per.trial <- trial.critical.time %>%\n",
    "    dplyr::group_by(Observer, Condition, Block, Trial) %>%\n",
    "    dplyr::mutate(percepts.count= count.percepts(Time, Event, start.time[1], end.time[1])) %>%\n",
    "    dplyr::summarize(percepts.count= percepts.count[1], trial.type= trial.type[1])\n",
    "\n",
    "## Computing number of percepts reported after the events\n",
    "\n",
    "percepts.per.trial.type <- percepts.per.trial %>%\n",
    "    dplyr::group_by(Observer, trial.type) %>%\n",
    "    dplyr::summarise(P.switch= mean(percepts.count>0))\n",
    "\n",
    "trial.type.plot <- ggplot(data= percepts.per.trial.type, aes(x= trial.type, y= P.switch, color= Observer, group= trial.type)) + \n",
    "    geom_boxplot(outlier.shape = NA) + \n",
    "    geom_jitter(width= 0.2)\n",
    "#     theme(axis.text.x = element_text(angle = 90, hjust = 1))\n",
    "print(trial.type.plot)\n",
    "ggsave(file=\"Generated figures/Experiment 3 - group averages 2.pdf\", plot= trial.type.plot, width= 12, height= 8, units = 'cm')\n",
    "\n",
    "# computing significance of the trial type\n",
    "lm.null <- lme4::lmer(P.switch ~ 1 + (1|Observer), data= percepts.per.trial.type, REML = FALSE)\n",
    "lm.trial.type <- update(lm.null, .~. + trial.type)\n",
    "anova(lm.null, lm.trial.type)\n",
    "\n",
    "# more specifically, comparing everything to the Baseline\n",
    "compare.to.baseline <- lmerTest::lmer(P.switch ~ trial.type+(1|Observer), percepts.per.trial.type)\n",
    "summary(compare.to.baseline)\n",
    "\n",
    "rcontrast<-function(t, df) {\n",
    "    return (sqrt(t^2/(t^2 + df)))\n",
    "}\n",
    "\n",
    "coefficients.only <- data.frame(summary(compare.to.baseline)$coefficients)\n",
    "colnames(coefficients.only) <- c('Estimate', 'Std.Error', 'df', 't.value', 'p.value')\n",
    "dplyr::mutate(coefficients.only, R.sqr= rcontrast(t.value, df))\n"
   ]
  },
  {
   "cell_type": "markdown",
   "metadata": {},
   "source": [
    "## 5. Computing proportion of trials for each condition"
   ]
  },
  {
   "cell_type": "code",
   "execution_count": 10,
   "metadata": {},
   "outputs": [
    {
     "data": {
      "text/html": [
       "<table>\n",
       "<thead><tr><th scope=col>trial.type</th><th scope=col>mean</th><th scope=col>std</th></tr></thead>\n",
       "<tbody>\n",
       "\t<tr><td>Baseline         </td><td>30.53515         </td><td> 6.045056        </td></tr>\n",
       "\t<tr><td>Prompted blink   </td><td>41.10256         </td><td> 1.941926        </td></tr>\n",
       "\t<tr><td>Sound            </td><td>16.18725         </td><td> 6.091254        </td></tr>\n",
       "\t<tr><td>Spontaneous blink</td><td>12.17504         </td><td>11.161588        </td></tr>\n",
       "</tbody>\n",
       "</table>\n"
      ],
      "text/latex": [
       "\\begin{tabular}{r|lll}\n",
       " trial.type & mean & std\\\\\n",
       "\\hline\n",
       "\t Baseline          & 30.53515          &  6.045056        \\\\\n",
       "\t Prompted blink    & 41.10256          &  1.941926        \\\\\n",
       "\t Sound             & 16.18725          &  6.091254        \\\\\n",
       "\t Spontaneous blink & 12.17504          & 11.161588        \\\\\n",
       "\\end{tabular}\n"
      ],
      "text/markdown": [
       "\n",
       "trial.type | mean | std | \n",
       "|---|---|---|---|\n",
       "| Baseline          | 30.53515          |  6.045056         | \n",
       "| Prompted blink    | 41.10256          |  1.941926         | \n",
       "| Sound             | 16.18725          |  6.091254         | \n",
       "| Spontaneous blink | 12.17504          | 11.161588         | \n",
       "\n",
       "\n"
      ],
      "text/plain": [
       "  trial.type        mean     std      \n",
       "1 Baseline          30.53515  6.045056\n",
       "2 Prompted blink    41.10256  1.941926\n",
       "3 Sound             16.18725  6.091254\n",
       "4 Spontaneous blink 12.17504 11.161588"
      ]
     },
     "metadata": {},
     "output_type": "display_data"
    }
   ],
   "source": [
    "trial.count <- percepts.per.trial %>%\n",
    "    dplyr::group_by(Observer) %>%\n",
    "    dplyr::mutate(total.trials= n()) %>%\n",
    "    dplyr::ungroup() %>%\n",
    "    dplyr::group_by(Observer, trial.type) %>%\n",
    "    dplyr::summarize(proportion= n()/total.trials[1]) %>%\n",
    "    dplyr::group_by(trial.type) %>%\n",
    "    dplyr::summarize(mean= mean(proportion)*100, std= sd(proportion)*100)\n",
    "trial.count"
   ]
  },
  {
   "cell_type": "markdown",
   "metadata": {},
   "source": [
    "## 6. Examining effect of the prompted blinks duration"
   ]
  },
  {
   "cell_type": "code",
   "execution_count": 11,
   "metadata": {},
   "outputs": [
    {
     "data": {
      "image/png": "[encoded data removed]",
      "text/plain": [
       "plot without title"
      ]
     },
     "metadata": {},
     "output_type": "display_data"
    }
   ],
   "source": [
    "prompted.blinks.percepts <- percepts.per.trial %>% dplyr::filter(trial.type=='Prompted blink')\n",
    "\n",
    "compute.prompted.blink.duration <- function(event.type, event.value){\n",
    "    iBlink <- which(event.type=='blink')\n",
    "    return (as.numeric(as.character(event.value[iBlink])))\n",
    "}\n",
    "\n",
    "compute.sound.duration <- function(event.type, event.value){\n",
    "    iSound <- which(event.type=='sound')\n",
    "    return (as.numeric(as.character(event.value[iSound])))\n",
    "}\n",
    "\n",
    "prompted.blinks.duration <- trial.critical.time %>%\n",
    "    dplyr::filter(trial.type=='Prompted blink') %>%\n",
    "    dplyr::group_by(Observer, Condition, Block, Trial) %>%\n",
    "    dplyr::summarize(blink.duration= compute.prompted.blink.duration(Event, Value),\n",
    "                     sound.duration = compute.sound.duration(Event, Value))\n",
    "prompted.blinks.percepts <- merge(prompted.blinks.percepts, prompted.blinks.duration, c('Observer', 'Condition', 'Block', 'Trial'))\n",
    "prompted.blinks.percepts$sound.duration <- as.factor(prompted.blinks.percepts$sound.duration)\n",
    "prompted.blinks.percepts$switch <- prompted.blinks.percepts$percepts.count>0\n",
    "\n",
    "prompted.blink.duration.plot <- ggplot(data= prompted.blinks.percepts, aes(x= blink.duration, color= sound.duration, fill= sound.duration)) + \n",
    "    geom_histogram(position= 'identity', alpha= 0.5, bins= 30)\n",
    "print(prompted.blink.duration.plot)"
   ]
  },
  {
   "cell_type": "markdown",
   "metadata": {},
   "source": [
    "### Looking whether prompted blink duration significantly alter the probability of the switch"
   ]
  },
  {
   "cell_type": "code",
   "execution_count": 12,
   "metadata": {},
   "outputs": [
    {
     "data": {
      "text/html": [
       "<table>\n",
       "<thead><tr><th></th><th scope=col>Df</th><th scope=col>AIC</th><th scope=col>BIC</th><th scope=col>logLik</th><th scope=col>deviance</th><th scope=col>Chisq</th><th scope=col>Chi Df</th><th scope=col>Pr(&gt;Chisq)</th></tr></thead>\n",
       "<tbody>\n",
       "\t<tr><th scope=row>lm.null</th><td>3          </td><td>121.1615   </td><td>135.0456   </td><td>-57.58074  </td><td>115.16147  </td><td>      NA   </td><td>NA         </td><td>         NA</td></tr>\n",
       "\t<tr><th scope=row>lm.duration</th><td>4          </td><td>104.3494   </td><td>122.8616   </td><td>-48.17472  </td><td> 96.34944  </td><td>18.81203   </td><td> 1         </td><td>1.44254e-05</td></tr>\n",
       "</tbody>\n",
       "</table>\n"
      ],
      "text/latex": [
       "\\begin{tabular}{r|llllllll}\n",
       "  & Df & AIC & BIC & logLik & deviance & Chisq & Chi Df & Pr(>Chisq)\\\\\n",
       "\\hline\n",
       "\tlm.null & 3           & 121.1615    & 135.0456    & -57.58074   & 115.16147   &       NA    & NA          &          NA\\\\\n",
       "\tlm.duration & 4           & 104.3494    & 122.8616    & -48.17472   &  96.34944   & 18.81203    &  1          & 1.44254e-05\\\\\n",
       "\\end{tabular}\n"
      ],
      "text/markdown": [
       "\n",
       "| <!--/--> | Df | AIC | BIC | logLik | deviance | Chisq | Chi Df | Pr(>Chisq) | \n",
       "|---|---|\n",
       "| lm.null | 3           | 121.1615    | 135.0456    | -57.58074   | 115.16147   |       NA    | NA          |          NA | \n",
       "| lm.duration | 4           | 104.3494    | 122.8616    | -48.17472   |  96.34944   | 18.81203    |  1          | 1.44254e-05 | \n",
       "\n",
       "\n"
      ],
      "text/plain": [
       "            Df AIC      BIC      logLik    deviance  Chisq    Chi Df\n",
       "lm.null     3  121.1615 135.0456 -57.58074 115.16147       NA NA    \n",
       "lm.duration 4  104.3494 122.8616 -48.17472  96.34944 18.81203  1    \n",
       "            Pr(>Chisq) \n",
       "lm.null              NA\n",
       "lm.duration 1.44254e-05"
      ]
     },
     "metadata": {},
     "output_type": "display_data"
    }
   ],
   "source": [
    "# computing P.switch per duration\n",
    "percept.per.blink.duration <- prompted.blinks.percepts %>%\n",
    "    dplyr::group_by(Observer, blink.duration) %>%\n",
    "    dplyr::summarize(P.switch= mean(percepts.count>0))\n",
    "\n",
    "lm.null <- lme4::lmer(P.switch ~ 1 + (1|Observer), data= percept.per.blink.duration, REML = FALSE)\n",
    "lm.duration <- update(lm.null, .~. + blink.duration)\n",
    "anova(lm.null, lm.duration)"
   ]
  },
  {
   "cell_type": "markdown",
   "metadata": {},
   "source": [
    "## 7. Looking at the distribution of blink durations for prompted vs. continuous"
   ]
  },
  {
   "cell_type": "markdown",
   "metadata": {},
   "source": [
    "Computing how many frames are necessary for the object to move to a spatially non-overlapping location on the screen"
   ]
  },
  {
   "cell_type": "code",
   "execution_count": 13,
   "metadata": {},
   "outputs": [],
   "source": [
    "# experimental settings, as described in the methods\n",
    "screen.width.pix <- 1920\n",
    "trajectory.limits <- screen.width.pix * c(0.2, 0.8)\n",
    "sfm.width <- 150\n",
    "screen.FPS <- 60\n",
    "trial.duration <- 4\n",
    "\n",
    "shift.per.frame <- diff(trajectory.limits)/(trial.duration * screen.FPS)\n",
    "\n",
    "complete.shift.ms <- 1000*(sfm.width/shift.per.frame)/screen.FPS\n",
    "half.shift.ms <- complete.shift.ms/2"
   ]
  },
  {
   "cell_type": "markdown",
   "metadata": {},
   "source": [
    "### Looking at the distribution of blink durations\n",
    "This is the __Figure 4C__ in the manuscript."
   ]
  },
  {
   "cell_type": "code",
   "execution_count": 14,
   "metadata": {
    "scrolled": false
   },
   "outputs": [
    {
     "name": "stderr",
     "output_type": "stream",
     "text": [
      "Warning message:\n",
      "\"Transformation introduced infinite values in continuous x-axis\"Warning message:\n",
      "\"Removed 1 rows containing non-finite values (stat_bin).\"Warning message:\n",
      "\"Transformation introduced infinite values in continuous x-axis\"Warning message:\n",
      "\"Removed 1 rows containing non-finite values (stat_bin).\""
     ]
    },
    {
     "data": {
      "text/html": [
       "<table>\n",
       "<thead><tr><th scope=col>trial.type</th><th scope=col>log.mean</th><th scope=col>log.std</th><th scope=col>mean</th><th scope=col>lower.ci</th><th scope=col>upper.ci</th><th scope=col>less.than.half.shift</th><th scope=col>less.than.full.shift</th></tr></thead>\n",
       "<tbody>\n",
       "\t<tr><td>Prompted blink   </td><td>7.056316         </td><td>0.2499456        </td><td>1160.1632        </td><td>903.58519        </td><td>1489.598         </td><td> 0.192123        </td><td> 0.6724304       </td></tr>\n",
       "\t<tr><td>Spontaneous blink</td><td>4.630081         </td><td>0.7448221        </td><td> 102.5224        </td><td> 48.67956        </td><td> 215.919         </td><td>93.055556        </td><td>97.2222222       </td></tr>\n",
       "</tbody>\n",
       "</table>\n"
      ],
      "text/latex": [
       "\\begin{tabular}{r|llllllll}\n",
       " trial.type & log.mean & log.std & mean & lower.ci & upper.ci & less.than.half.shift & less.than.full.shift\\\\\n",
       "\\hline\n",
       "\t Prompted blink    & 7.056316          & 0.2499456         & 1160.1632         & 903.58519         & 1489.598          &  0.192123         &  0.6724304       \\\\\n",
       "\t Spontaneous blink & 4.630081          & 0.7448221         &  102.5224         &  48.67956         &  215.919          & 93.055556         & 97.2222222       \\\\\n",
       "\\end{tabular}\n"
      ],
      "text/markdown": [
       "\n",
       "trial.type | log.mean | log.std | mean | lower.ci | upper.ci | less.than.half.shift | less.than.full.shift | \n",
       "|---|---|\n",
       "| Prompted blink    | 7.056316          | 0.2499456         | 1160.1632         | 903.58519         | 1489.598          |  0.192123         |  0.6724304        | \n",
       "| Spontaneous blink | 4.630081          | 0.7448221         |  102.5224         |  48.67956         |  215.919          | 93.055556         | 97.2222222        | \n",
       "\n",
       "\n"
      ],
      "text/plain": [
       "  trial.type        log.mean log.std   mean      lower.ci  upper.ci\n",
       "1 Prompted blink    7.056316 0.2499456 1160.1632 903.58519 1489.598\n",
       "2 Spontaneous blink 4.630081 0.7448221  102.5224  48.67956  215.919\n",
       "  less.than.half.shift less.than.full.shift\n",
       "1  0.192123             0.6724304          \n",
       "2 93.055556            97.2222222          "
      ]
     },
     "metadata": {},
     "output_type": "display_data"
    },
    {
     "data": {
      "image/png": "[encoded data removed]",
      "text/plain": [
       "plot without title"
      ]
     },
     "metadata": {},
     "output_type": "display_data"
    }
   ],
   "source": [
    "compute.blink.duration <- function(event.type, event.value){\n",
    "    iBlink <- which(event.type=='blink')\n",
    "    return (sum(as.numeric(as.character(event.value[iBlink]))))\n",
    "}\n",
    "\n",
    "\n",
    "blinks.percepts <- percepts.per.trial %>% dplyr::filter(trial.type %in% c('Prompted blink', 'Spontaneous blink', 'Multiple blinks'))\n",
    "\n",
    "blinks.duration <- trial.critical.time %>%\n",
    "    dplyr::filter(trial.type %in% c('Prompted blink', 'Spontaneous blink', 'Multiple blinks')) %>%\n",
    "    dplyr::group_by(Observer, Condition, Block, Trial) %>%\n",
    "    dplyr::summarize(blink.duration= compute.blink.duration(Event, Value),\n",
    "                     trial.type= trial.type[1])\n",
    "\n",
    "blinks.percepts <- merge(blinks.percepts, blinks.duration, c('Observer', 'Condition', 'Block', 'Trial', 'trial.type'))\n",
    "blinks.percepts$switch <- blinks.percepts$percepts.count>0\n",
    "\n",
    "blink.duration.plot <- ggplot(data= blinks.percepts, aes(x= blink.duration, group= trial.type, fill= trial.type, color= trial.type)) + \n",
    "    geom_histogram(aes(y= ..density../sum(..density..)), bins= 40, alpha= 0.5, position=\"identity\")+\n",
    "#     scale_y_continuous(labels = percent_format()) + \n",
    "#     xlim(0, 2500)+\n",
    "    geom_vline(xintercept = c(half.shift.ms, complete.shift.ms))+\n",
    "    scale_x_log10()\n",
    "print(blink.duration.plot)\n",
    "ggsave(file=\"Generated figures/Experiment 3 - blink durations.pdf\", plot= blink.duration.plot, width= 12, height= 8, units = 'cm')\n",
    "\n",
    "\n",
    "avg.blink <- blinks.percepts %>%\n",
    "    dplyr::filter(blink.duration>0) %>%\n",
    "    dplyr::mutate(log.duration= log(blink.duration)) %>%\n",
    "    dplyr::group_by(trial.type) %>%\n",
    "    dplyr::summarise(log.mean= mean(log.duration),\n",
    "                     log.std= sd(log.duration),\n",
    "                     mean= exp(log.mean),\n",
    "                     lower.ci= exp(log.mean-log.std),\n",
    "                     upper.ci= exp(log.mean+log.std), \n",
    "                     less.than.half.shift= 100*mean(blink.duration < half.shift.ms),\n",
    "                     less.than.full.shift= 100*mean(blink.duration < complete.shift.ms))\n",
    "avg.blink"
   ]
  }
 ],
 "metadata": {
  "kernelspec": {
   "display_name": "R",
   "language": "R",
   "name": "ir"
  },
  "language_info": {
   "codemirror_mode": "r",
   "file_extension": ".r",
   "mimetype": "text/x-r-source",
   "name": "R",
   "pygments_lexer": "r",
   "version": "3.4.2"
  }
 },
 "nbformat": 4,
 "nbformat_minor": 1
}
